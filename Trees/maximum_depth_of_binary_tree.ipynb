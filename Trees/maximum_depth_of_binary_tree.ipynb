{
 "cells": [
  {
   "attachments": {},
   "cell_type": "markdown",
   "metadata": {},
   "source": [
    "# Maximum Height of a Binary Tree\n",
    "\n",
    "#### Difficulty: $\\star\\star$\n",
    "#### Hint: *BFS, DFS, you name it*\n",
    "#### Problem\n",
    "Given the `root` of a binary tree, return its *maximum depth*.\n",
    "\n",
    "A binary tree's **maximum depth** is the number of nodes along the longest path from the root node down to the farthest leaf node."
   ]
  },
  {
   "attachments": {},
   "cell_type": "markdown",
   "metadata": {},
   "source": [
    "### Solution 1: Brute Force Recursion\n",
    "We first find the height of the root's children by comparing the height of the left and right children. Then we can calculate the root's height knowing it is one level higher than its children."
   ]
  },
  {
   "cell_type": "code",
   "execution_count": null,
   "metadata": {},
   "outputs": [],
   "source": [
    "def maxDepth(self, root: TreeNode) -> int:\n",
    "    if not root:\n",
    "        return 0\n",
    "    return 1 + max(self.maxDepth(root.left), self.maxDepth(root.right))"
   ]
  },
  {
   "attachments": {},
   "cell_type": "markdown",
   "metadata": {},
   "source": [
    "### Solution 2: BFS\n",
    "This is just a level order traversal. Every time we reach a new level, we can increment the tree's height by one."
   ]
  },
  {
   "cell_type": "code",
   "execution_count": null,
   "metadata": {},
   "outputs": [],
   "source": [
    "def maxDepth(self, root: TreeNode) -> int:\n",
    "    q = collections.deque()\n",
    "    if root:\n",
    "        q.append(root)\n",
    "\n",
    "    level = 0\n",
    "\n",
    "    while q:\n",
    "        for i in range(len(q)):\n",
    "            node = q.popleft()\n",
    "            if node.left:\n",
    "                q.append(node.left)\n",
    "            if node.right:\n",
    "                q.append(node.right)\n",
    "        level += 1\n",
    "    return level"
   ]
  },
  {
   "attachments": {},
   "cell_type": "markdown",
   "metadata": {},
   "source": [
    "### Solution 3: DFS\n",
    "We implement a stack. We keep going down one path, storing in the stack the previous nodes as well its height so that we can always go back when we hit a dead end. And for every new node we reach, we update the maximum height if applicable."
   ]
  },
  {
   "cell_type": "code",
   "execution_count": null,
   "metadata": {},
   "outputs": [],
   "source": [
    "def maxDepth(self, root: TreeNode) -> int:\n",
    "    stack = [[root, 1]]\n",
    "    res = 0\n",
    "\n",
    "    while stack:\n",
    "        node, depth = stack.pop()\n",
    "\n",
    "        if node:\n",
    "            res = max(res, depth)\n",
    "            stack.append([node.left, depth + 1])\n",
    "            stack.append([node.right, depth + 1])\n",
    "    return res"
   ]
  }
 ],
 "metadata": {
  "language_info": {
   "name": "python"
  },
  "orig_nbformat": 4
 },
 "nbformat": 4,
 "nbformat_minor": 2
}
