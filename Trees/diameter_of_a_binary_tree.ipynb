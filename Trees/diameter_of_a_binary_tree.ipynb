{
 "cells": [
  {
   "attachments": {},
   "cell_type": "markdown",
   "metadata": {},
   "source": [
    "# Diameter of a Binary Tree\n",
    "\n",
    "#### Difficulty: $\\star$\n",
    "#### Hint: Similar to using DFS to find height\n",
    "#### Problem\n",
    "Given the `root` of a binary tree, return *the length of the **diameter** of the tree*.\n",
    "\n",
    "The **diameter** of a binary tree is the **length** of the longest path between any two nodes in a tree. This path may or may not pass through the root.\n",
    "\n",
    "The length of a path between two nodes is represented by the number of edges between them."
   ]
  },
  {
   "attachments": {},
   "cell_type": "markdown",
   "metadata": {},
   "source": [
    "### Solution: Recursion\n",
    "We define a method called `radius`, which finds the **radius** of a node in a binary tree. The *radius* is the height of node *plus one*. And for every node, if we know its radius on the left and on the right, we can calculate its diameter by summing up the radii together. Afterwards, we can update the longest radius if applicable."
   ]
  },
  {
   "cell_type": "code",
   "execution_count": null,
   "metadata": {},
   "outputs": [],
   "source": [
    "def diameterOfBinaryTree(self, root: Optional[TreeNode]) -> int:\n",
    "    res = 0\n",
    "\n",
    "    def radius(root):\n",
    "        nonlocal res\n",
    "\n",
    "        if not root:\n",
    "            return 0\n",
    "        left = radius(root.left)\n",
    "        right = radius(root.right)\n",
    "        res = max(res, left + right)\n",
    "\n",
    "        return 1 + max(left, right)\n",
    "\n",
    "    radius(root)\n",
    "    return res"
   ]
  }
 ],
 "metadata": {
  "language_info": {
   "name": "python"
  },
  "orig_nbformat": 4
 },
 "nbformat": 4,
 "nbformat_minor": 2
}
