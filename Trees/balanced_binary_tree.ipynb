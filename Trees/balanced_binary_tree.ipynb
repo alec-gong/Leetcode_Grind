{
 "cells": [
  {
   "attachments": {},
   "cell_type": "markdown",
   "metadata": {},
   "source": [
    "# Balanced Binary Tree\n",
    "\n",
    "#### Difficulty: $\\star$\n",
    "#### Hint: *Still recusion*\n",
    "#### Problem\n",
    "Given a binary tree, determine if it is **height-balanced**."
   ]
  },
  {
   "attachments": {},
   "cell_type": "markdown",
   "metadata": {},
   "source": [
    "### Solution: Recursion, how old are you\n",
    "We are still writing recursion to find the height of each node, except this time we return another variable `balance`, which only returns `True` if a node and its left and right children are all balanced."
   ]
  },
  {
   "cell_type": "code",
   "execution_count": null,
   "metadata": {},
   "outputs": [],
   "source": [
    " def isBalanced(self, root: Optional[TreeNode]) -> bool:\n",
    "    \n",
    "    def dfs(node):\n",
    "        if not node:\n",
    "            return [-1, True]\n",
    "        left, right = dfs(node.left), dfs(node.right)\n",
    "        balance = left[1] and right[1] and abs(left[0] - right[0]) <= 1\n",
    "        return [1 + max(left[0], right[0]), balance]\n",
    "    \n",
    "    return dfs(root)[1]"
   ]
  }
 ],
 "metadata": {
  "language_info": {
   "name": "python"
  },
  "orig_nbformat": 4
 },
 "nbformat": 4,
 "nbformat_minor": 2
}
