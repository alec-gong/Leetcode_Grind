{
 "cells": [
  {
   "attachments": {},
   "cell_type": "markdown",
   "metadata": {},
   "source": [
    "# Lowest Common Ancestor of a Binary Search Tree\n",
    "\n",
    "#### Difficulty: $\\star\\star$\n",
    "#### Hint: *It is a binaray SEARCH tree*\n",
    "#### Problem\n",
    "Given a binary search tree (BST), find the lowest common ancestor (LCA) node of two given nodes in the BST.\n",
    "\n",
    "According to the definition of LCA on Wikipedia: “The lowest common ancestor is defined between two nodes `p` and `q` as the lowest node in `T` that has both `p` and `q` as descendants (where we allow a node to be a descendant of itself).”"
   ]
  },
  {
   "attachments": {},
   "cell_type": "markdown",
   "metadata": {},
   "source": [
    "### Solution 1: Recursion\n",
    "The logic is very simple. Since this is a binary search tree, the left child is always smaller than the root, while the right side is always larger.\n",
    "\n",
    "By symmetry, assume the value of node `p` is always smaller than that of `q`. The base case, where we stop the search, is when the parent node is either `p` or `q`, or when `p` and `q` are on either sides of the parent. Otherwise, we keep on searching in the left or right subtree depending on if `p` and `q` are smaller or larger than the parent."
   ]
  },
  {
   "cell_type": "code",
   "execution_count": null,
   "metadata": {},
   "outputs": [],
   "source": [
    "def lowestCommonAncestor(self, root: 'TreeNode', p: 'TreeNode', q: 'TreeNode') -> 'TreeNode':\n",
    "        \n",
    "    if root.val < p.val and root.val < q.val:\n",
    "        return self.lowestCommonAncestor(root.right, p, q)\n",
    "    elif root.val > p.val and root.val > q.val:\n",
    "        return self.lowestCommonAncestor(root.left, p, q)\n",
    "    else:\n",
    "        return root"
   ]
  },
  {
   "attachments": {},
   "cell_type": "markdown",
   "metadata": {},
   "source": [
    "### Solution 2: Just a gool old while loop\n",
    "The logic is identical to the previous solution, except that we replace recursion with a while loop."
   ]
  },
  {
   "cell_type": "code",
   "execution_count": null,
   "metadata": {},
   "outputs": [],
   "source": [
    "def lowestCommonAncestor(self, root, p, q) -> \"TreeNode\":\n",
    "    cur = root\n",
    "    while cur:\n",
    "        if p.val > cur.val and q.val > cur.val:\n",
    "            cur = cur.right\n",
    "        elif p.val < cur.val and q.val < cur.val:\n",
    "            cur = cur.left\n",
    "        else:\n",
    "            return cur"
   ]
  }
 ],
 "metadata": {
  "language_info": {
   "name": "python"
  },
  "orig_nbformat": 4
 },
 "nbformat": 4,
 "nbformat_minor": 2
}
