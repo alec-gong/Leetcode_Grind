{
 "cells": [
  {
   "attachments": {},
   "cell_type": "markdown",
   "metadata": {},
   "source": [
    "# Binary Tree Level Order Traversal\n",
    "\n",
    "#### Difficulty: $\\star\\star$\n",
    "#### Hint: *bfs*\n",
    "#### Problem\n",
    "Given the `root` of a binary tree, return the level order traversal of its nodes' values. (i.e., from left to right, level by level)."
   ]
  },
  {
   "attachments": {},
   "cell_type": "markdown",
   "metadata": {},
   "source": [
    "### Solution: BFS go brrrrrrrr\n",
    "There really isn't much to be said. Just your average bfs algorithm."
   ]
  },
  {
   "cell_type": "code",
   "execution_count": null,
   "metadata": {},
   "outputs": [],
   "source": [
    "def levelOrder(self, root: Optional[TreeNode]) -> List[List[int]]:\n",
    "    q = collections.deque()\n",
    "    ans = []\n",
    "\n",
    "    length = 0\n",
    "    if root:\n",
    "        q.append(root)\n",
    "        length += 1\n",
    "    while q:\n",
    "        group = []\n",
    "        for i in range(length):\n",
    "            node = q.popleft()\n",
    "            group.append(node.val)\n",
    "            length -= 1\n",
    "            if node.left:\n",
    "                q.append(node.left)\n",
    "                length += 1\n",
    "            if node.right:\n",
    "                q.append(node.right)\n",
    "                length += 1\n",
    "        ans.append(group)\n",
    "    \n",
    "    return ans"
   ]
  },
  {
   "attachments": {},
   "cell_type": "markdown",
   "metadata": {},
   "source": [
    "### Optimization\n",
    "We can get rid of `length` if we just use `len(q)`"
   ]
  },
  {
   "cell_type": "code",
   "execution_count": null,
   "metadata": {},
   "outputs": [],
   "source": [
    "def levelOrder(self, root: TreeNode) -> List[List[int]]:\n",
    "    res = []\n",
    "    q = collections.deque()\n",
    "    if root:\n",
    "        q.append(root)\n",
    "\n",
    "    while q:\n",
    "        val = []\n",
    "\n",
    "        for i in range(len(q)):\n",
    "            node = q.popleft()\n",
    "            val.append(node.val)\n",
    "            if node.left:\n",
    "                q.append(node.left)\n",
    "            if node.right:\n",
    "                q.append(node.right)\n",
    "        res.append(val)\n",
    "    return res"
   ]
  }
 ],
 "metadata": {
  "language_info": {
   "name": "python"
  },
  "orig_nbformat": 4
 },
 "nbformat": 4,
 "nbformat_minor": 2
}
