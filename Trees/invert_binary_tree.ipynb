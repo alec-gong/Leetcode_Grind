{
 "cells": [
  {
   "attachments": {},
   "cell_type": "markdown",
   "metadata": {},
   "source": [
    "# Invert Binary Tree\n",
    "\n",
    "#### Difficulty: $\\star$\n",
    "#### Hint: *Do I really need one?*\n",
    "#### Problem\n",
    "Given the `root` of a binary tree, invert the tree, and return its root."
   ]
  },
  {
   "attachments": {},
   "cell_type": "markdown",
   "metadata": {},
   "source": [
    "### Solution: Recursion\n",
    "The recursion is as follows: swap left and right children (use `temp` to store intermediate data), then recursively swap left and right branch respectively.\n"
   ]
  },
  {
   "cell_type": "code",
   "execution_count": null,
   "metadata": {},
   "outputs": [],
   "source": [
    "def invertTree(self, root: Optional[TreeNode]) -> Optional[TreeNode]:\n",
    "    if not root:\n",
    "        return\n",
    "\n",
    "    if root.left or root.right:\n",
    "        temp = root.left\n",
    "        root.left = root.right\n",
    "        root.right = temp\n",
    "        self.invertTree(root.left)\n",
    "        self.invertTree(root.right)\n",
    "    return root"
   ]
  }
 ],
 "metadata": {
  "language_info": {
   "name": "python"
  },
  "orig_nbformat": 4
 },
 "nbformat": 4,
 "nbformat_minor": 2
}
