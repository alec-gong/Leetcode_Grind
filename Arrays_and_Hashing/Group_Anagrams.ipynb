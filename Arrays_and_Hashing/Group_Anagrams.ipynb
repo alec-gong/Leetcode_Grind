{
 "cells": [
  {
   "attachments": {},
   "cell_type": "markdown",
   "metadata": {},
   "source": [
    "# Group Anagrams\n",
    "\n",
    "### Question\n",
    "Given an array of strings `strs`, group the **anagrams** together. You can return the answer in **any order**.\n",
    "\n",
    "\n",
    "### Method 1: The Brute Force Approach\n",
    "This problem directly follows from *Valid Anagram*. The first instinct is to recycle the solution for that problem to compare if two words are anagrams. \n",
    "\n",
    "The challenge is to scale this operation to a list of words. It is a bad idea to compare every two words; in fact, for every group of words which are anagrams, we only need to compare the next word to one of the words in the group.\n",
    "\n",
    "Consequently, we want to create a dictionary. We store the words which are anagrams as the value in the form of a list, and choose one of the words as the key. For every new word, if `isAnagram` method returns true, then it is added to the values; else, we create a new entry, with the word serving both as the key and value. "
   ]
  },
  {
   "cell_type": "code",
   "execution_count": null,
   "metadata": {},
   "outputs": [],
   "source": [
    "class Solution(object):\n",
    "    def groupAnagrams(self, strs):\n",
    "        \"\"\"\n",
    "        :type strs: List[str]\n",
    "        :rtype: List[List[str]]\n",
    "        \"\"\"\n",
    "        \n",
    "        dic = {}\n",
    "\n",
    "        for str in strs:\n",
    "            pair = False\n",
    "            for k in dic:\n",
    "                if self.isAnagrams(str, k):\n",
    "                    dic[k] += [str]\n",
    "                    pair = True\n",
    "                    break\n",
    "            if pair == False:\n",
    "                dic[str] = [str]\n",
    "        \n",
    "        return dic.values()\n",
    "                \n",
    "    \n",
    "    def isAnagrams(self, str1, str2):\n",
    "        dic = {}\n",
    "        for l in str1:\n",
    "            if l in dic:\n",
    "                dic[l] += 1\n",
    "            else:\n",
    "                dic[l] = 1\n",
    "        for l in str2:\n",
    "            if l in dic:\n",
    "                dic[l] -= 1\n",
    "            else:\n",
    "                return False\n",
    "        for k in dic:\n",
    "            if dic[k] != 0:\n",
    "                return False\n",
    "        return True"
   ]
  },
  {
   "attachments": {},
   "cell_type": "markdown",
   "metadata": {},
   "source": [
    "The trickiest part is to determine whether the new word should be added to an existing entry or as a new entry. To that end, we create the boolean flag `pair`, which is originally set to `False`. If after looping through all the keys in the dictionary, the flag remains unchanged, then the word is a new entry. Otherwise, if during the loop, it finds its anagrams, the flag is switched to the opposite. To save time, the `break` terminates the loop immediately. \n",
    "\n",
    "However, this code **exceeds run time**. This makes sense, since everytime we compare a new word to the dictionary keys, the `isAnagrams` method turns the key into a dictionary time and time again. We need to find a better method in which every word only goes through one transformation. \n",
    "\n",
    "*Note: since the dictionary's values are stored as lists. If we wish to return a list of a list, there is no need to create an empty list and adding every value to it. We only need to return `dic.values()`*"
   ]
  },
  {
   "attachments": {},
   "cell_type": "markdown",
   "metadata": {},
   "source": [
    "### Method 2: String Manipulation\n",
    "\n",
    "On the structural level, this method is almost identical to the previous one. Only in this method, we get rid of the `isAnagrams` method altogether.\n",
    "\n",
    "How then should we compare if two strings are anagrams? We use string manipulation, specifically,\n",
    "```python\n",
    "''.join(sorted(str))\n",
    "```\n",
    "The `sorted()` method sorts the characters of `str` in lexicographic (alphebetic) order. They are then joined back into a single string with no delimeter between the characters. "
   ]
  },
  {
   "cell_type": "code",
   "execution_count": null,
   "metadata": {},
   "outputs": [],
   "source": [
    "def groupAnagrams(self, strs):\n",
    "        dic = {}\n",
    "        for str in strs:\n",
    "            word = ''.join(sorted(str))\n",
    "            if word in dic:\n",
    "                dic[word] += [str]\n",
    "            else:\n",
    "                dic[word] = [str]\n",
    "        return dic.values()"
   ]
  },
  {
   "attachments": {},
   "cell_type": "markdown",
   "metadata": {},
   "source": [
    "It is slow to use this method to compare if **two** words are anagrams. However, if we are dealing with a list, this method is much faster since every word only goes through *one* transformation, and can be compared immediately, instead of having to use a dictionary to count the occurances of every letter each time we face a comparison. "
   ]
  }
 ],
 "metadata": {
  "kernelspec": {
   "display_name": "Python 3",
   "language": "python",
   "name": "python3"
  },
  "language_info": {
   "name": "python",
   "version": "3.10.11"
  },
  "orig_nbformat": 4
 },
 "nbformat": 4,
 "nbformat_minor": 2
}
