{
 "cells": [
  {
   "attachments": {},
   "cell_type": "markdown",
   "metadata": {},
   "source": [
    "# Top K Frequent Elemetns\n",
    "\n",
    "Difficulty: Medium\n",
    "\n",
    "### Problem\n",
    "Given an integer array `nums` and an integer `k`, return the k most frequent elements. You may return the answer *in any order*.\n",
    "\n",
    "**Follow up**: Your algorithm's time complexity must be better than `O(n log n)`, where `n` is the array's size."
   ]
  },
  {
   "attachments": {},
   "cell_type": "markdown",
   "metadata": {},
   "source": [
    "### Method 1: The Brute Force Approach that is actually Fast\n",
    "This method can be broken down into 3 steps:\n",
    "1. Build a dictionary (hashmap) to store the frequency of each unique integer\n",
    "2. Sort the frequencies from largest to smallest using a list\n",
    "3. Find the kth largest frequency and set it as a benchmark to filter through the keys in the dictionary\n"
   ]
  },
  {
   "cell_type": "code",
   "execution_count": null,
   "metadata": {},
   "outputs": [],
   "source": [
    "def topKFrequent(self, nums, k):\n",
    "        \"\"\"\n",
    "        :type nums: List[int]\n",
    "        :type k: int\n",
    "        :rtype: List[int]\n",
    "        \"\"\"\n",
    "        dic = {}\n",
    "        for num in nums:\n",
    "            if num in dic:\n",
    "                dic[num] += 1\n",
    "            else:\n",
    "                dic[num] = 1\n",
    "        l = []\n",
    "        for key in dic:\n",
    "            l += [dic[key]]\n",
    "        l.sort(reverse = True)\n",
    "        limit = l[k-1]\n",
    "        ans = []\n",
    "        for key in dic:\n",
    "            if dic[key] >= limit:\n",
    "                ans += [key]\n",
    "        return ans"
   ]
  },
  {
   "attachments": {},
   "cell_type": "markdown",
   "metadata": {},
   "source": [
    "### Method 2: A Slower Method Implementing Bucket Sort\n",
    "This method can also be broken down into 3 stepsf:\n",
    "1. Build a dictionary (hashmap) to store the frequency of each unique integer. This is the same as step 1 of the previous method.\n",
    "2. This time we store the key value pair into a list made up of lists. Each element list stores integers with the same frequencies, while the frequency is represented by their relative position in the list. \n",
    "3. Since the list is made up of elements with frequencies from least to most, we iterate through it from back to front, appending elements to the answer until it reaches size k. "
   ]
  },
  {
   "cell_type": "code",
   "execution_count": null,
   "metadata": {},
   "outputs": [],
   "source": [
    "def topKFrequent(self, nums, k):\n",
    "        \n",
    "        dic = {}\n",
    "        for num in nums:\n",
    "            dic[num] = 1 + dic.get(num, 0)\n",
    "\n",
    "        freq = [[] for i in range(len(nums)+1)]\n",
    "        for key, val in dic.items():\n",
    "            freq[val] += [key]\n",
    "        \n",
    "        res = []\n",
    "        for i in range(len(nums), -1, -1):\n",
    "            res += freq[i]\n",
    "            if len(res) == k:\n",
    "                return res"
   ]
  },
  {
   "attachments": {},
   "cell_type": "markdown",
   "metadata": {},
   "source": [
    "**Note**: \n",
    "\n",
    "*we simplify the process of initialzing the hashmap by comibing the if and else statement using the method*\n",
    "```python\n",
    "dictionary.get(keyname, value)\n",
    "```\n",
    "*where the optional parameter `value` is the value to be returned if the specified key does not exist.*"
   ]
  },
  {
   "attachments": {},
   "cell_type": "markdown",
   "metadata": {},
   "source": [
    "### Method 3: Using a Heap\n",
    "Looking at the time bound suggested by the follow up, one cannot help but think about a data structure with a similar insertion and removal time cost: priority queue (binary heap).\n",
    "\n",
    "In this method, after documenting the frequencies of each integer in a dictionary, we assign the key value pair into the binary heap. Since it is min heap, but we are looking for k largest values, we need to somehow convert it into a max heap. To that end, when inputing the value of the integers, we convert it to its opposite, so that if a > b, -a < -b.\n",
    "\n",
    "The pair is inserted into the heap as a tuple, and the heap automatically assigns its location by automatically comparing the **first** element of the tuple. \n"
   ]
  },
  {
   "cell_type": "code",
   "execution_count": null,
   "metadata": {},
   "outputs": [],
   "source": [
    "def topKFrequent(self, nums, k):\n",
    "       \n",
    "        dic = {}\n",
    "\n",
    "        for num in nums:\n",
    "           dic[num] = 1 + dic.get(num, 0)\n",
    "        \n",
    "        heap = []\n",
    "        for key in dic:\n",
    "            heapq.heappush(heap, (-dic[key], key))\n",
    "        \n",
    "        res = []\n",
    "        for i in range(k):\n",
    "            popped = heapq.heappop(heap)\n",
    "            res.append(popped[1])\n",
    "        \n",
    "        return res"
   ]
  },
  {
   "attachments": {},
   "cell_type": "markdown",
   "metadata": {},
   "source": [
    "#### Note: Heap Operations\n",
    "```python\n",
    "heapq.heappush(heap, item)\n",
    "```\n",
    "Push the value item onto the heap, maintaining the heap invariant.\n",
    "\n",
    "```python\n",
    "heapq.heappop(heap)\n",
    "```\n",
    "Pop and return the *smallest* item from the heap, maintaining the heap invariant. If the heap is empty, `IndexError` is raised. To access the smallest item without popping it, use `heap[0]`.\n"
   ]
  }
 ],
 "metadata": {
  "language_info": {
   "name": "python"
  },
  "orig_nbformat": 4
 },
 "nbformat": 4,
 "nbformat_minor": 2
}
