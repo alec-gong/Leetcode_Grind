{
 "cells": [
  {
   "attachments": {},
   "cell_type": "markdown",
   "metadata": {},
   "source": [
    "# Encode and Decode Strings\n",
    "\n",
    "### Difficulty: $\\star\\star$\n",
    "\n",
    "### Hint\n",
    "Store length of each word plus seperation symbol\n",
    "\n",
    "### Problem\n",
    "Design an algorithm to encode **a list of strings** to a **string**. The encoded string is then sent over the network and is decoded back to the original list of strings.\n",
    "\n",
    "Implement the `encode` and `decode` methods.\n",
    "\n",
    "You are not allowed to solve the problem using any serialize methods (such as eval).\n"
   ]
  },
  {
   "attachments": {},
   "cell_type": "markdown",
   "metadata": {},
   "source": [
    "### Solution\n",
    "\n",
    "The only tricky thing about the problem is the encryption method. At first glance, it is tempting to just seperate each string by a certain breaking symbol (such as **#**) and identify and skip through them during decryption.\n",
    "\n",
    "However, any breaking symbol could be the beginning or end of a string. So the second idea is to store the length of the string so we will know how many characters we should read in for each string. \n",
    "\n",
    "This is also problematic because the length could be more than one digit. Consequently, the best method is to combine the two ideas: we append before each string its length followed by a breaking character. Since the entire decryption string starts with the length of the first string, the operation can be carried out without any complication. "
   ]
  },
  {
   "cell_type": "code",
   "execution_count": null,
   "metadata": {},
   "outputs": [],
   "source": [
    "def encode(self, strs):\n",
    "        \"\"\"Encodes a list of strings to a single string.\n",
    "        :type strs: List[str]\n",
    "        :rtype: str\n",
    "        \"\"\"\n",
    "        ans = \"\"\n",
    "        for s in strs:\n",
    "            ans += str(len(s)) + \"#\" + s\n",
    "        return ans\n",
    "        \n",
    "\n",
    "def decode(self, s):\n",
    "    \"\"\"Decodes a single string to a list of strings.\n",
    "    :type s: str\n",
    "    :rtype: List[str]\n",
    "    \"\"\"\n",
    "    res, i = [], 0\n",
    "    while i < len(s):\n",
    "        j = i\n",
    "        # read in the length\n",
    "        while s[j] != \"#\":\n",
    "            j += 1\n",
    "        length = int(s[i:j])\n",
    "        res.append(s[j + 1 : j + 1 + length])\n",
    "        # update\n",
    "        i = j + 1 + length\n",
    "    return res"
   ]
  }
 ],
 "metadata": {
  "language_info": {
   "name": "python"
  },
  "orig_nbformat": 4
 },
 "nbformat": 4,
 "nbformat_minor": 2
}
