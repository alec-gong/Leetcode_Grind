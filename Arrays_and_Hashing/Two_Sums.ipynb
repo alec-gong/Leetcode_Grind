{
 "cells": [
  {
   "attachments": {},
   "cell_type": "markdown",
   "metadata": {},
   "source": [
    "# Two Sums\n",
    "\n",
    "### Method 1: The Brute Force Approach\n",
    "This is rather straightforward. Iterate through the list, and for every element, calculate the complement value that would make the sum equate to the target. Search through the rest of the list. Since there is only *one* pair of answers, the program terminates when the complement value is found. Return the pair of positions."
   ]
  },
  {
   "cell_type": "code",
   "execution_count": null,
   "metadata": {},
   "outputs": [],
   "source": [
    "def twoSum(self, nums, target):\n",
    "        \n",
    "        \"\"\"\n",
    "        :type nums: List[int]\n",
    "        :type target: int\n",
    "        :rtype: List[int]\n",
    "        \"\"\"\n",
    "        \n",
    "        for i in range(0, len(nums)):\n",
    "            search = target - nums[i]\n",
    "            for j in range(i+1, len(nums)):\n",
    "                if nums[j] == search:\n",
    "                    return [i,j]"
   ]
  },
  {
   "attachments": {},
   "cell_type": "markdown",
   "metadata": {},
   "source": [
    "### Method 2: A Slightly Faster Alternative\n",
    "This time we uses a HashMap, or, in python, a dictionary. Instead of iterating through the array time and time again, we search through the dictionary, which conveniently stores the complement value, should it exist, and its location. \n",
    "To make things easier, we use the function `enumerate()`, which keeps track of the index and the value of an element in the array."
   ]
  },
  {
   "cell_type": "code",
   "execution_count": null,
   "metadata": {},
   "outputs": [],
   "source": [
    " def twoSum(self, nums, target):\n",
    "\n",
    "        memory = {}\n",
    "\n",
    "        for idx, val in enumerate(nums):\n",
    "            comp = target - val\n",
    "            if comp in memory:\n",
    "                return[idx, memory[comp]]\n",
    "            memory[val] = idx"
   ]
  },
  {
   "attachments": {},
   "cell_type": "markdown",
   "metadata": {},
   "source": [
    "*Note: the `in` operator checks if a **key** is present in the dictionary. Consequently, there is no need to specify `if comp in memory.keys()`. For this reason also, the dictionary should also be structured in a way that the key represents the value of an element, and the value its index in the array.*"
   ]
  }
 ],
 "metadata": {
  "kernelspec": {
   "display_name": "Python 3",
   "language": "python",
   "name": "python3"
  },
  "language_info": {
   "name": "python",
   "version": "3.10.11"
  },
  "orig_nbformat": 4
 },
 "nbformat": 4,
 "nbformat_minor": 2
}
