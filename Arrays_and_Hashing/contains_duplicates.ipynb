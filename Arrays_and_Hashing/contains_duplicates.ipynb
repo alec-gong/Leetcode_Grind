{
 "cells": [
  {
   "attachments": {},
   "cell_type": "markdown",
   "metadata": {},
   "source": [
    "# Contains Duplicates\n",
    "\n",
    "### Question\n",
    "Given an integer array `nums`, return `true` if *any* value appears **at least twice** in the array, and return `false` if every element is distinct.\n",
    "\n",
    "### Method: Dictionary Strikes Again\n",
    "We create a dictionary, storing each unique number as its keys. Every time we encounter a new unique number, we create an entry, setting 1 as the value to indicate the number has only appeared once. \n",
    "\n",
    "However, we do **not** need to increment the values, because if a number is already in the dictionary, the next time we encounter it, we know the list contains duplicates, and we can just return `True`. If after looping through all the numbers in the list, the program has not terminated, then we know there are no duplicates, and can immediately return `True`."
   ]
  },
  {
   "cell_type": "code",
   "execution_count": null,
   "metadata": {},
   "outputs": [],
   "source": [
    "def containsDuplicate(self, nums):\n",
    "        \"\"\"\n",
    "        :type nums: List[int]\n",
    "        :rtype: bool\n",
    "        \"\"\"\n",
    "\n",
    "        dic = {}\n",
    "        for n in nums:\n",
    "            if n in dic:\n",
    "                return True\n",
    "            else:\n",
    "                dic[n] = 1\n",
    "        return False"
   ]
  }
 ],
 "metadata": {
  "language_info": {
   "name": "python"
  },
  "orig_nbformat": 4
 },
 "nbformat": 4,
 "nbformat_minor": 2
}
