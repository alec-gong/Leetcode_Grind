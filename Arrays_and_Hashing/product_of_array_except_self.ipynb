{
 "cells": [
  {
   "attachments": {},
   "cell_type": "markdown",
   "metadata": {},
   "source": [
    "# Product of Array Except Self\n",
    "\n",
    "Difficulty: $\\star\\star$\n",
    "\n",
    "### Problem\n",
    "Given an integer array `nums`, return an array `answer` such that *`answer[i]` is equal to the product of all the elements of `nums` except `nums[i]`*.\n",
    "\n",
    "You must write an algorithm that runs in **O(n)** time and **without using the division operation**."
   ]
  },
  {
   "attachments": {},
   "cell_type": "markdown",
   "metadata": {},
   "source": [
    "### Method 1: The Intuitive Approach\n",
    "\n",
    "The tricky part of this problem is that we can *NOT* use division operation (I missed this requirement firs time solving the problem).\n",
    "\n",
    "Nonetheless, for any element `answer[i]` in `answer`, it can be expressed as:\n",
    "$$ answer[i] = \\Pi_{j=0}^{i-1} answer[j] * \\Pi_{j=i+1}^{len(nums)} answer[j] $$\n",
    "The former product we denote as `pre`, stored in the list `prefix`; the former we denote as `post`, stored in the list `postfix`.\n",
    "\n",
    "We find the answer by multiplier elements from both lists at the same position. "
   ]
  },
  {
   "cell_type": "code",
   "execution_count": null,
   "metadata": {},
   "outputs": [],
   "source": [
    "def productExceptSelf(self, nums):\n",
    "        \"\"\"\n",
    "        :type nums: List[int]\n",
    "        :rtype: List[int]\n",
    "        \"\"\"\n",
    "        prefix = range(len(nums))\n",
    "        postfix = range(len(nums))\n",
    "        answer = range(len(nums))\n",
    "\n",
    "        for i in range(0, len(nums)):\n",
    "            if i == 0:\n",
    "                pre = 1\n",
    "                post = 1\n",
    "            else:\n",
    "                pre *= nums[i-1]\n",
    "                post *= nums[len(nums)-i]\n",
    "            prefix[i] = pre\n",
    "            postfix[len(nums)-i-1] = post\n",
    "\n",
    "        for i in range(0, len(nums)):\n",
    "            answer[i] = prefix[i] * postfix[i]\n",
    "        return answer"
   ]
  },
  {
   "attachments": {},
   "cell_type": "markdown",
   "metadata": {},
   "source": [
    "*Note: To create a list of size `x`, we use the method `range()`*\n",
    "```python\n",
    "list = range(x)\n",
    "```"
   ]
  },
  {
   "attachments": {},
   "cell_type": "markdown",
   "metadata": {},
   "source": [
    "### Method 2: Optimization with One List\n",
    "\n",
    "Instead of creating three lists, we can make do with only one.\n",
    "\n",
    "We iterate through the list twice, the first time storing the first half of the answer - `pre`, in the `answer` list. Then we go through the list backward, multiplying `answer[i]` with `post`."
   ]
  },
  {
   "cell_type": "code",
   "execution_count": null,
   "metadata": {},
   "outputs": [],
   "source": [
    "def productExceptSelf(self, nums):\n",
    "        \n",
    "        answer = range(len(nums))\n",
    "\n",
    "        pre = 1\n",
    "        for i in range(len(nums)):\n",
    "            answer[i] = pre\n",
    "            pre *= nums[i]\n",
    "\n",
    "        post = 1\n",
    "        for i in range(len(nums) - 1, -1, -1):\n",
    "            answer[i] *= post\n",
    "            post *= nums[i]\n",
    "\n",
    "        return answer"
   ]
  }
 ],
 "metadata": {
  "language_info": {
   "name": "python"
  },
  "orig_nbformat": 4
 },
 "nbformat": 4,
 "nbformat_minor": 2
}
