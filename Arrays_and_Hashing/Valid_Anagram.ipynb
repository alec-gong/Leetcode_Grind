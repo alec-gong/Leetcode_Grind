{
 "cells": [
  {
   "attachments": {},
   "cell_type": "markdown",
   "metadata": {},
   "source": [
    "# Valid Anagram\n",
    "\n",
    "### Question\n",
    "Given two strings `s` and `t`, return `true` if `t` is an anagram of `s`, and `false` otherwise.\n",
    "An **Anagram** is a word or phrase formed by rearranging the letters of a different word or phrase, typically using all the original letters exactly once.\n",
    "\n",
    "### Method: Using a HashMap\n",
    "This follows the idea of **Two Sums**. Create a dictionary storing the number of occurances of every unique letter in `s`. Then modify the counts in the dictionary based on the frequency of the unique letters in `t`. Then verify the counts, only returning true if every value is 0."
   ]
  },
  {
   "cell_type": "code",
   "execution_count": null,
   "metadata": {},
   "outputs": [],
   "source": [
    "def isAnagram(self, s, t):\n",
    "\n",
    "        dic = {}\n",
    "\n",
    "        for l in s:\n",
    "            if l not in dic:\n",
    "                dic[l] = 1\n",
    "            else:\n",
    "                dic[l] += 1\n",
    "        for l in t:\n",
    "            if l not in dic:\n",
    "                return False\n",
    "            else:\n",
    "                dic[l] -= 1\n",
    "        for k in dic:\n",
    "            if dic[k] != 0:\n",
    "                return False\n",
    "        return True"
   ]
  },
  {
   "attachments": {},
   "cell_type": "markdown",
   "metadata": {},
   "source": [
    "*Note: when iterating through the letters in `t`, it is tempting to test one more condition in the `else` statement:*\n",
    "```python\n",
    "if dic[l] < 0:\n",
    "    return False\n",
    "```\n",
    "*The idea is that if the value is less than 0, that means a letter appears more times in `t` than in `s`. Even though this might have the advantage of terminating the program early, the cost of running the test for every entry makes the program slowlier.*"
   ]
  }
 ],
 "metadata": {
  "language_info": {
   "name": "python"
  },
  "orig_nbformat": 4
 },
 "nbformat": 4,
 "nbformat_minor": 2
}
