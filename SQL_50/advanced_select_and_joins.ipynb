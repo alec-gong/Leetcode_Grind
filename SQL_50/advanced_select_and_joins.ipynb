{
 "cells": [
  {
   "attachments": {},
   "cell_type": "markdown",
   "metadata": {},
   "source": [
    "# Advanced Select and Joins"
   ]
  },
  {
   "attachments": {},
   "cell_type": "markdown",
   "metadata": {},
   "source": [
    "## Primary Department for Each Employee\n",
    "#### Difficulty: $\\star$\n",
    "#### Hint: *partition by*\n",
    "#### Solution\n",
    "While we can use `Group By` for aggregate functions, if we want to divide the table into different sections (but to aggregate the results), then we should use `Partition by`. The syntax is \n",
    "```SQL\n",
    "SELECT \n",
    "    column1, column2, ..., \n",
    "    window_function() OVER (PARTITION BY partition_column1, partition_column2, ...) AS result_column\n",
    "FROM your_table;\n",
    "```"
   ]
  },
  {
   "cell_type": "code",
   "execution_count": null,
   "metadata": {
    "vscode": {
     "languageId": "sql"
    }
   },
   "outputs": [],
   "source": [
    "Select employee_id, department_id\n",
    "From\n",
    "  (Select *, COUNT(employee_id) OVER (Partition By employee_id) AS cnt\n",
    "  From Employee) e\n",
    "Where e.cnt = 1 or e.primary_flag = \"Y\""
   ]
  }
 ],
 "metadata": {
  "language_info": {
   "name": "python"
  },
  "orig_nbformat": 4
 },
 "nbformat": 4,
 "nbformat_minor": 2
}
