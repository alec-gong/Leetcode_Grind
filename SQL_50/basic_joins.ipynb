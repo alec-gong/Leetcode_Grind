{
 "cells": [
  {
   "attachments": {},
   "cell_type": "markdown",
   "metadata": {},
   "source": [
    "# Basic Joins"
   ]
  },
  {
   "attachments": {},
   "cell_type": "markdown",
   "metadata": {},
   "source": [
    "## Replace Employee ID With The Unique Identifier\n",
    "\n",
    "#### Difficulty: $\\star$\n",
    "\n",
    "#### Hint: *Left/Right join*\n",
    "\n",
    "#### Problem\n",
    "Table: `employees`\n",
    "\n",
    "| Column Name   | Type    |\n",
    "|:-------------:|:-------:|\n",
    "| id            | int     |\n",
    "| name          | varchar |\n",
    "\n",
    "`id` is the primary key for this table.\n",
    "Each row of this table contains the id and the name of an employee in a company.\n",
    "\n",
    "Table: `EmployeeUNI`\n",
    "\n",
    "| Column Name   | Type    |\n",
    "|:-------------:|:-------:|\n",
    "| id            | int     |\n",
    "| unique_id     | int     |\n",
    "\n",
    "(`id`, `unique_id`) is the primary key for this table.\n",
    "Each row of this table contains the id and the corresponding unique id of an employee in the company.\n",
    "\n",
    "Write an SQL query to show the **unique ID** of each user. If a user does not have a unique ID replace just show **null**. Return the result table in any order.\n",
    "\n",
    "#### Solution:\n",
    "The key to solving this problem is to understand that we have to join two tables. However, all the `name` in `Employees` must be returned. So it cannot be inner join, but rather **left join** or **right join**."
   ]
  },
  {
   "cell_type": "code",
   "execution_count": null,
   "metadata": {
    "vscode": {
     "languageId": "sql"
    }
   },
   "outputs": [],
   "source": [
    "/*Left join*/\n",
    "Select uni.unique_id, em.name\n",
    "From Employees em\n",
    "Left Join EmployeeUNI uni\n",
    "On em.id = uni.id\n",
    "\n",
    "/*Or we can switch the order of the table and use right join*/\n",
    "Select uni.unique_id, em.name\n",
    "From EmployeeUNI uni\n",
    "Right Join Employees em\n",
    "On uni.id = em.id"
   ]
  },
  {
   "attachments": {},
   "cell_type": "markdown",
   "metadata": {},
   "source": [
    "## Rising Temperature\n",
    "#### Difficulty: $\\star$\n",
    "#### Hint: *self join, `DATE_ADD`*\n",
    "#### Problem\n",
    "\n",
    "Table: `Weather`\n",
    "\n",
    "| Column Name   | Type    |\n",
    "|:-------------:|:-------:|\n",
    "| id            | int     |\n",
    "| recordDate    | date    |\n",
    "| temperature   | int     |\n",
    "\n",
    "`id` is the primary key for this table.\n",
    "This table contains information about the temperature on a certain day.\n",
    "\n",
    "Write an SQL query to find all dates' `Id` with higher temperatures compared to its previous dates (yesterday). Return the result table in any order.\n",
    "\n",
    "#### Solution\n",
    "To compare two rows in a table, we need to **self join** the table by some variable. In this case, we have to use `recordDate` (`id` will not work since adjacent rows might not correspond to adjacent days.) To self join the table, we need to use function\n",
    "```SQL\n",
    "DATE_ADD(date_variable, INTERVAL 1 DAY)\n",
    "```"
   ]
  },
  {
   "cell_type": "code",
   "execution_count": null,
   "metadata": {
    "vscode": {
     "languageId": "sql"
    }
   },
   "outputs": [],
   "source": [
    "Select w1.id AS Id\n",
    "From Weather w1\n",
    "Join Weather w2\n",
    "On w1.recordDate = DATE_ADD(w2.recordDate, INTERVAL 1 DAY)\n",
    "Where w1.temperature > w2.temperature"
   ]
  },
  {
   "attachments": {},
   "cell_type": "markdown",
   "metadata": {},
   "source": [
    "## Students and Examinations\n",
    "#### Difficulty: $\\star$\n",
    "#### Hint: *Cross join, COUNT() (pay attention when choosing table)*\n",
    "#### Problem\n",
    "\n",
    "Table: `Students`\n",
    "\n",
    "| Column Name   | Type    |\n",
    "|---------------|---------|\n",
    "| student_id    | int     |\n",
    "| student_name  | varchar |\n",
    "\n",
    "`student_id` is the primary key for this table.\n",
    "Each row of this table contains the ID and the name of one student in the school.\n",
    " \n",
    "\n",
    "Table: `Subjects`\n",
    "\n",
    "| Column Name  | Type    |\n",
    "|--------------|---------|\n",
    "| subject_name | varchar |\n",
    "\n",
    "`subject_name` is the primary key for this table.\n",
    "Each row of this table contains the name of one subject in the school.\n",
    " \n",
    "\n",
    "Table: `Examinations`\n",
    "\n",
    "| Column Name  | Type    |\n",
    "|--------------|---------|\n",
    "| student_id   | int     |\n",
    "| subject_name | varchar |\n",
    "\n",
    "There is no primary key for this table. It may contain duplicates.\n",
    "Each student from the Students table takes every course from the Subjects table.\n",
    "Each row of this table indicates that a student with ID `student_id` attended the exam of `subject_name`.\n",
    " \n",
    "\n",
    "Write an SQL query to find the number of times each student attended each exam. Return the result table **ordered by `student_id` and `subject_name`**.\n",
    "\n",
    "#### Solution\n",
    "The tricky part of this question is to figure out the correct sequence to join the tables. Since not every student takes part in the tests of all the subjects, we have to join `Examinations` last. However, since `Subjects` and `Students` share no common keys, we have to use **cross join**. \n",
    "\n",
    "To count how many exams each students attended, we can count by `subject_name`. However, this variable is shared in both `subjects` and `Examinations`. Since we want to know how many exams of different subjects a student actually attended, the variable has to come from `Examinations` table."
   ]
  },
  {
   "cell_type": "code",
   "execution_count": null,
   "metadata": {
    "vscode": {
     "languageId": "sql"
    }
   },
   "outputs": [],
   "source": [
    "Select st.student_id, st.student_name, sb.subject_name, COUNT(e.subject_name) AS attended_exams\n",
    "From Students st\n",
    "Cross Join Subjects sb\n",
    "Left Join Examinations e\n",
    "On st.student_id = e.student_id and sb.subject_name =  e.subject_name\n",
    "Group by student_name, sb.subject_name\n",
    "Order by st.student_id, sb.subject_name"
   ]
  }
 ],
 "metadata": {
  "language_info": {
   "name": "python"
  },
  "orig_nbformat": 4
 },
 "nbformat": 4,
 "nbformat_minor": 2
}
