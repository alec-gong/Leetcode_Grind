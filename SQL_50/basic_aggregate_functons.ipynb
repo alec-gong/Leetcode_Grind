{
 "cells": [
  {
   "attachments": {},
   "cell_type": "markdown",
   "metadata": {},
   "source": [
    "# Basic Aggregate Functions"
   ]
  },
  {
   "attachments": {},
   "cell_type": "markdown",
   "metadata": {},
   "source": [
    "## Percentage of Users Attended a Contest\n",
    "#### Difficulty: $\\star$\n",
    "#### Hint: *use `select` inside aggregate function*\n",
    "#### Problem:\n",
    "Table: `Users`\n",
    "\n",
    "| Column Name | Type    |\n",
    "|-------------|---------|\n",
    "| user_id     | int     |\n",
    "| user_name   | varchar |\n",
    "\n",
    "`user_id` is the primary key for this table.\n",
    "Each row of this table contains the name and the id of a user.\n",
    " \n",
    "\n",
    "Table: `Register`\n",
    "\n",
    "| Column Name | Type    |\n",
    "|-------------|---------|\n",
    "| contest_id  | int     |\n",
    "| user_id     | int     |\n",
    "\n",
    "(`contest_id`, `user_id`) is the primary key for this table.\n",
    "Each row of this table contains the id of a user and the contest they registered into.\n",
    " \n",
    "Write an SQL query to find the percentage of the users registered in each contest rounded to **two decimals**. Return the result table ordered by **percentage in descending order**. In case of a tie, order it by **contest_id in ascending order**.\n",
    "\n",
    "#### Solution\n",
    "There is no need to join tables every time. In this case, we can just use `select` inside the aggregrat function, which will make it easier to find how many people in total. \n",
    "\n",
    "*Note: this problem can also be solved by left join, though the process is more complicated*"
   ]
  },
  {
   "cell_type": "code",
   "execution_count": null,
   "metadata": {
    "vscode": {
     "languageId": "sql"
    }
   },
   "outputs": [],
   "source": [
    "Select contest_id, ROUND((COUNT(user_id) / (Select COUNT(user_id) from Users)) * 100, 2) AS percentage\n",
    "From Register r\n",
    "Group by contest_id\n",
    "Order by percentage desc, contest_id"
   ]
  },
  {
   "attachments": {},
   "cell_type": "markdown",
   "metadata": {},
   "source": [
    "## Queries Quality and Percentage\n",
    "#### Difficulty: $\\star$\n",
    "#### Hint: *conditional sum*\n",
    "#### Solution\n",
    "The only thing to pay attention to in this question is to count rows in a table that satisfy a certain situation. In this case, we can use a conditional count function:\n",
    "```SQL\n",
    "SUM(COUNT(CASE WHEN condition THEN 1 ELSE 0 END))\n",
    "```\n",
    "This means we only count a certain row when the conditional is met and continues otherwise. "
   ]
  },
  {
   "cell_type": "code",
   "execution_count": null,
   "metadata": {
    "vscode": {
     "languageId": "sql"
    }
   },
   "outputs": [],
   "source": [
    "Select \n",
    "    query_name, \n",
    "    ROUND((AVG(rating / position)), 2) AS quality,\n",
    "    ROUND((SUM(CASE WHEN rating < 3 THEN 1 ELSE 0 END) * 100 / COUNT(rating)), 2) AS poor_query_percentage\n",
    "From Queries \n",
    "Group by query_name"
   ]
  },
  {
   "attachments": {},
   "cell_type": "markdown",
   "metadata": {},
   "source": [
    "## Immediate Food Delivery II\n",
    "#### Difficulty: $\\star$\n",
    "#### Hint: *subquery, `IN` operator*\n",
    "#### Problem\n",
    "Table: `Delivery`\n",
    "\n",
    "| Column Name                 | Type    |\n",
    "|-----------------------------|---------|\n",
    "| delivery_id                 | int     |\n",
    "| customer_id                 | int     |\n",
    "| order_date                  | date    |\n",
    "| customer_pref_delivery_date | date    |\n",
    "\n",
    "`delivery_id` is the primary key of this table.\n",
    "The table holds information about food delivery to customers that make orders at some date and specify a preferred delivery date (on the same order date or after it).\n",
    " \n",
    "\n",
    "If the customer's preferred delivery date is the same as the order date, then the order is called **immediate**; otherwise, it is called **scheduled**.\n",
    "\n",
    "The **first order** of a customer is the order with the earliest order date that the customer made. It is guaranteed that a customer has **precisely one** first order.\n",
    "\n",
    "Write an SQL query to find the percentage of immediate orders in the first orders of all customers, rounded to **2 decimal places**.\n",
    "\n",
    "#### Solution\n",
    "The key is to use a subquery to filter out all the first orders.\n",
    "About the code:\n",
    "1. The inner subquery retrieves the minimum order date for each customer by grouping the records in the `Delivery` table by `customer_id` and selecting the minimum order_date using the `min` function. \n",
    "2. The outer query then uses the result set from the inner subquery as a filter condition using the **IN** operator. It filters the records in the `Delivery` table based on matching `customer_id` and `order_date` with the minimum order date for each customer."
   ]
  },
  {
   "cell_type": "code",
   "execution_count": null,
   "metadata": {
    "vscode": {
     "languageId": "sql"
    }
   },
   "outputs": [],
   "source": [
    "SELECT\n",
    "    ROUND(100*SUM(CASE WHEN order_date = customer_pref_delivery_date THEN 1 ELSE 0 END)/ COUNT(customer_id) ,2) AS immediate_percentage\n",
    "FROM\n",
    "    Delivery\n",
    "WHERE\n",
    "    (customer_id, order_date)\n",
    "IN\n",
    "(SELECT\n",
    "    customer_id, min(order_date) as min_date\n",
    "FROM\n",
    "    Delivery\n",
    "GROUP BY\n",
    "    customer_id\n",
    ");"
   ]
  },
  {
   "attachments": {},
   "cell_type": "markdown",
   "metadata": {},
   "source": [
    "## Game Play Analysis IV\n",
    "#### Difficulty: $\\star\\star$\n",
    "#### Hint: *Self joining subqueries*\n",
    "#### Problem\n",
    "\n",
    "Table: `Activity`\n",
    "\n",
    "| Column Name  | Type    |\n",
    "|--------------|---------|\n",
    "| player_id    | int     |\n",
    "| device_id    | int     |\n",
    "| event_date   | date    |\n",
    "| games_played | int     |\n",
    "\n",
    "(`player_id`, `event_date`) is the primary key of this table.\n",
    "This table shows the activity of players of some games.\n",
    "Each row is a record of a player who logged in and played a number of games (possibly 0) before logging out on someday using some device.\n",
    " \n",
    "\n",
    "Write an SQL query to report the fraction of players that logged in again on the day after the day they first logged in, rounded to 2 decimal places. In other words, you need to count the number of players that logged in for **at least two consecutive days** starting from **their first login date**, then divide that number by the total number of players.\n",
    "\n"
   ]
  },
  {
   "cell_type": "code",
   "execution_count": null,
   "metadata": {
    "vscode": {
     "languageId": "sql"
    }
   },
   "outputs": [],
   "source": [
    "Select ROUND(COUNT(a2.player_id) / COUNT(a1.player_id), 2) AS fraction\n",
    "From\n",
    "  (Select player_id, MIN(event_date) AS first_login\n",
    "  From Activity\n",
    "  Group by player_id) a1\n",
    "Left Join Activity a2\n",
    "ON a1.player_id = a2.player_id and a1.first_login + 1 = a2.event_date"
   ]
  }
 ],
 "metadata": {
  "language_info": {
   "name": "python"
  },
  "orig_nbformat": 4
 },
 "nbformat": 4,
 "nbformat_minor": 2
}
