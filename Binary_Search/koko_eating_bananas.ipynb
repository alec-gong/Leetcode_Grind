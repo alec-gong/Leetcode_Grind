{
 "cells": [
  {
   "attachments": {},
   "cell_type": "markdown",
   "metadata": {},
   "source": [
    "# Koko Eating bananas\n",
    "\n",
    "#### Difficulty: $\\star\\star$\n",
    "#### Hint: *range is $[1, max(piles)]$*\n",
    "#### Problem\n",
    "Koko loves to eat bananas. There are `n` piles of bananas, the $i^{th}$ pile has `piles[i]` bananas. The guards have gone and will come back in `h` hours.\n",
    "\n",
    "Koko can decide her bananas-per-hour eating speed of `k`. Each hour, she chooses some pile of bananas and eats `k` bananas from that pile. If the pile has *less than k* bananas, she eats all of them instead and will not eat any more bananas during this hour.\n",
    "\n",
    "Koko likes to eat slowly but still wants to finish eating all the bananas before the guards return.\n",
    "\n",
    "Return the **minimum integer `k`** such that she can eat all the bananas within `h` hours."
   ]
  },
  {
   "attachments": {},
   "cell_type": "markdown",
   "metadata": {},
   "source": [
    "### Solution\n",
    "A big mistake I made when first solving the problem is to think that I have to determine the value of my left and right pointer on the values of the different piles. (I blame it on the problem `Search a 2D Matrix`; all of a sudden it is OK to search within lists of lists.)\n",
    "\n",
    "Instead, a easy alternative is just to set the lower bound to 1 (Koko has to each banana every hour) and the upper bound to the largest number in a pile.(She has no incentive to eat more). Then we apply binary search, updating the smallest `k` everytime it falls within its time limit, and try to find an ever smaller value by decrementing the right pointer."
   ]
  },
  {
   "cell_type": "code",
   "execution_count": null,
   "metadata": {},
   "outputs": [],
   "source": [
    "def minEatingSpeed(self, piles: List[int], h: int) -> int:\n",
    "    l, r = 1, max(piles)\n",
    "    res = max(piles)\n",
    "\n",
    "    while l <= r:\n",
    "        k = (l + r) // 2\n",
    "\n",
    "        totalTime = 0\n",
    "        for pile in piles:\n",
    "            totalTime += math.ceil(pile / k)\n",
    "        # if in the time limit, try to eat less\n",
    "        if totalTime <= h:\n",
    "            res = min(res, k)\n",
    "            r = k - 1\n",
    "        else:\n",
    "            l = k + 1\n",
    "    \n",
    "    return res"
   ]
  }
 ],
 "metadata": {
  "language_info": {
   "name": "python"
  },
  "orig_nbformat": 4
 },
 "nbformat": 4,
 "nbformat_minor": 2
}
