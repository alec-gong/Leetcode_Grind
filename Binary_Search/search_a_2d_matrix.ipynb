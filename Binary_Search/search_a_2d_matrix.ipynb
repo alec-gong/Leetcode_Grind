{
 "cells": [
  {
   "attachments": {},
   "cell_type": "markdown",
   "metadata": {},
   "source": [
    "# Search a 2D Matrix\n",
    "\n",
    "#### Difficulty: $\\star\\star$\n",
    "#### Hint: *Apply binary search twice*\n",
    "#### Problem\n",
    "You are given an `m x n` integer matrix `matrix` with the following two properties:\n",
    "\n",
    "1. Each row is sorted in non-decreasing order.\n",
    "2. The first integer of each row is greater than the last integer of the previous row.\n",
    "Given an integer target, return true if target is in matrix or false otherwise.\n",
    "\n",
    "You must write a solution in `O(log(m * n))` time complexity.\n",
    "\n"
   ]
  },
  {
   "attachments": {},
   "cell_type": "markdown",
   "metadata": {},
   "source": [
    "### Solution\n",
    "We apply binary search twice, the first time we locate the row the number is at. To do so, the left pointer is set at the end of every row, and the right pointer set at the beginning of another row. (It is too much work if we set the left pointer at the beginning of a row as the bound is looser.)\n",
    "\n",
    "After locating the row, we use binary search again to find the column number in that specific row."
   ]
  },
  {
   "cell_type": "code",
   "execution_count": null,
   "metadata": {},
   "outputs": [],
   "source": [
    "def searchMatrix(self, matrix: List[List[int]], target: int) -> bool:\n",
    "    \n",
    "    ROWS, COLS = len(matrix), len(matrix[0])\n",
    "\n",
    "    top, bot = 0, ROWS - 1\n",
    "    while top <= bot:\n",
    "        row = (top + bot) // 2\n",
    "        if target > matrix[row][-1]:\n",
    "            top = row + 1\n",
    "        elif target < matrix[row][0]:\n",
    "            bot = row - 1\n",
    "        else:\n",
    "            break\n",
    "\n",
    "    if not (top <= bot):\n",
    "        return False\n",
    "    \n",
    "    row = (top + bot) // 2\n",
    "    l, r = 0, COLS - 1\n",
    "    while l <= r:\n",
    "        m = (l + r) // 2\n",
    "        if target > matrix[row][m]:\n",
    "            l = m + 1\n",
    "        elif target < matrix[row][m]:\n",
    "            r = m - 1\n",
    "        else:\n",
    "            return True\n",
    "    return False"
   ]
  }
 ],
 "metadata": {
  "language_info": {
   "name": "python"
  },
  "orig_nbformat": 4
 },
 "nbformat": 4,
 "nbformat_minor": 2
}
