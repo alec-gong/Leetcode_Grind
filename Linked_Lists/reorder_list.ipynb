{
 "cells": [
  {
   "attachments": {},
   "cell_type": "markdown",
   "metadata": {},
   "source": [
    "# Reorder List\n",
    "\n",
    "#### Difficulty: $\\star\\star$\n",
    "#### Hint: *Use two pointers to save memory*\n",
    "#### Problem:\n",
    "You are given the head of a singly linked-list. The list can be represented as:\n",
    "\n",
    "L0 → L1 → … → Ln - 1 → Ln\n",
    "\n",
    "Reorder the list to be on the following form:\n",
    "\n",
    "L0 → Ln → L1 → Ln - 1 → L2 → Ln - 2 → …\n",
    "\n",
    "You may not modify the values in the list's nodes. Only nodes themselves may be changed."
   ]
  },
  {
   "attachments": {},
   "cell_type": "markdown",
   "metadata": {},
   "source": [
    "### Solution 1: O(n) memory using array\n",
    "This is the more intuitive method. We store all the nodes in an array / list, and now all we need to do is changing the `next` pointer of each node. To that end, we create two pointers `l` and `r` that starts from the head and the end of the array respectively, with both pointer moving toward the center. "
   ]
  },
  {
   "cell_type": "code",
   "execution_count": null,
   "metadata": {},
   "outputs": [],
   "source": [
    "def reorderList(self, head: Optional[ListNode]) -> None:\n",
    "    \"\"\"\n",
    "    Do not return anything, modify head in-place instead.\n",
    "    \"\"\"\n",
    "    arr, curr = [], head\n",
    "\n",
    "    while curr:\n",
    "        arr.append(curr)\n",
    "        curr = curr.next\n",
    "\n",
    "    l, r = 0, len(arr) - 1\n",
    "\n",
    "    while r > l:\n",
    "        arr[l].next = arr[r]\n",
    "        l += 1\n",
    "\n",
    "        if l == r:\n",
    "            break\n",
    "\n",
    "        arr[r].next = arr[l]\n",
    "        r -= 1\n",
    "    \n",
    "    arr[l].next = None"
   ]
  },
  {
   "attachments": {},
   "cell_type": "markdown",
   "metadata": {},
   "source": [
    "### Solution 2: O(1) memory with two pointers\n",
    "We first find the middle point of the linked list. To do that, we use two pointers `slow` and `fast`, with `fast` travelling a node ahead of `slow` and with twice the speed of `slow`. Consequently, by the time the `fast` pointer reaches the end, the `slow` has reached the midpoint. (*Note that if the length is odd, the first half is longer than the second half.*)\n",
    "\n",
    "The second step is to reverse the second half of the linked list. This exactly follows the process of the problem `Reverse Linked List`. The only important thing to pay attention to is that we must set\n",
    "```python\n",
    "prev = slow.next = None\n",
    "```\n",
    "otherwise the code will run into a **cycle**.\n",
    "\n",
    "The last step is to merge the two lists. We use two *pointers* `temp1` and `temp2` to store the next pointer before the location is changed."
   ]
  },
  {
   "cell_type": "code",
   "execution_count": null,
   "metadata": {},
   "outputs": [],
   "source": [
    "def reorderList(self, head: Optional[ListNode]) -> None:\n",
    "    slow, fast = head, head.next\n",
    "    while fast and fast.next:\n",
    "        slow, fast = slow.next, fast.next.next\n",
    "    \n",
    "    curr = slow.next\n",
    "    prev = slow.next = None\n",
    "    while curr:\n",
    "        temp = curr.next\n",
    "        curr.next = prev\n",
    "        prev = curr\n",
    "        curr = temp\n",
    "    \n",
    "    first, second = head, prev\n",
    "    while second:\n",
    "        temp1, temp2 = first.next, second.next\n",
    "        first.next = second\n",
    "        second.next = temp1\n",
    "        first, second = temp1, temp2\n"
   ]
  },
  {
   "cell_type": "code",
   "execution_count": null,
   "metadata": {},
   "outputs": [],
   "source": []
  }
 ],
 "metadata": {
  "language_info": {
   "name": "python"
  },
  "orig_nbformat": 4
 },
 "nbformat": 4,
 "nbformat_minor": 2
}
