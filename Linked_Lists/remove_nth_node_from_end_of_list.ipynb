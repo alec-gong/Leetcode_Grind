{
 "cells": [
  {
   "attachments": {},
   "cell_type": "markdown",
   "metadata": {},
   "source": [
    "# Remove Nth Node From End of List\n",
    "\n",
    "#### Difficulty: $\\star\\star$\n",
    "#### Hint: *Two pointers with a distance of (n + 1)*\n",
    "#### Problem\n",
    "Given the head of a linked list, remove the `nth` node from the end of the list and return its head."
   ]
  },
  {
   "attachments": {},
   "cell_type": "markdown",
   "metadata": {},
   "source": [
    "### Solution 1: Brute Force Approach by First Finding the Length of the Linked List\n",
    "This method really does not require much thinking. We first find the length of the linked list, so that we will know when we will encounter the nth node from the end of the list. Afterwards, it is just a matter of setting the next link of the (n+1)th node from the end of the list to the (n-1)th node from the end.\n",
    "\n",
    "As for edge cases, we only need to worry about that when we have to remove the first node. We simply set the head to the second node."
   ]
  },
  {
   "cell_type": "code",
   "execution_count": null,
   "metadata": {},
   "outputs": [],
   "source": [
    "def removeNthFromEnd(self, head: Optional[ListNode], n: int) -> Optional[ListNode]:\n",
    "\n",
    "    curr, count = head, 0\n",
    "    while curr:\n",
    "        count += 1\n",
    "        curr = curr.next\n",
    "    \n",
    "    # edge case: remove first node\n",
    "    if count == n:\n",
    "        head = head.next\n",
    "        return head\n",
    "        \n",
    "    pos, temp = 1, head\n",
    "    while pos < count - n:\n",
    "        temp = temp.next\n",
    "        pos += 1\n",
    "    if temp.next:\n",
    "        temp.next = temp.next.next\n",
    "    return head"
   ]
  },
  {
   "attachments": {},
   "cell_type": "markdown",
   "metadata": {},
   "source": [
    "### Solution 2: Using Two Pointers\n",
    "Two pointers make it easier to find the (n+1)th node from the end (since this is the node for which we will modify the next pointer). To do so, we only need to make sure the `left` pointer starts at `Null` (before the first node of the linked list), and the `right` pointer a distance of (n+1) ahead of `left`, so that when `right` reaches the end, the `left` pointer is right where we want it.\n",
    "\n",
    "Afterwards, like the first approach, it is only a matter of modifying the next pointer."
   ]
  },
  {
   "cell_type": "code",
   "execution_count": null,
   "metadata": {},
   "outputs": [],
   "source": [
    "def removeNthFromEnd(self, head: Optional[ListNode], n: int) -> Optional[ListNode]:\n",
    "\n",
    "    dummy = ListNode(next = head)\n",
    "    left, right = dummy, head\n",
    "\n",
    "    for i in range(n):\n",
    "        right = right.next\n",
    "    \n",
    "    while right:\n",
    "        left, right = left.next, right.next\n",
    "    \n",
    "    left.next = left.next.next\n",
    "    return dummy.next"
   ]
  }
 ],
 "metadata": {
  "kernelspec": {
   "display_name": "Python 3",
   "language": "python",
   "name": "python3"
  },
  "language_info": {
   "name": "python",
   "version": "3.9.6"
  },
  "orig_nbformat": 4
 },
 "nbformat": 4,
 "nbformat_minor": 2
}
