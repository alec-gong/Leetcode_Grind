{
 "cells": [
  {
   "attachments": {},
   "cell_type": "markdown",
   "metadata": {},
   "source": [
    "# Merge Two Sorted Lists\n",
    "\n",
    "#### Difficulty: $\\star$\n",
    "#### Hint: *Create a `dummy` and `tail` node to track the progress*\n",
    "#### Problem:\n",
    "You are given the heads of two sorted linked lists `list1` and `list2`.\n",
    "\n",
    "Merge the two lists in a one **sorted** list. The list should be made by splicing together the nodes of the first two lists.\n",
    "\n",
    "Return *the head of the merged linked list*."
   ]
  },
  {
   "attachments": {},
   "cell_type": "markdown",
   "metadata": {},
   "source": [
    "### Solution\n",
    "This almost resembles **merge sort**, except in the context of linked lists. We have pointers iterating through both lists, and every time we decide the next node of the merged list, we first compare the values of the nodes the pointers are pointing at. \n",
    "\n",
    "Note: We create a `dummy` node to deal with the edge case that the linked list is empty, and since we are returning the *head* of the linked list, we need `tail` to keep track of our progression."
   ]
  },
  {
   "cell_type": "code",
   "execution_count": null,
   "metadata": {},
   "outputs": [],
   "source": [
    "def mergeTwoLists(self, l1: Optional[ListNode], l2: Optional[ListNode]) -> Optional[ListNode]:\n",
    "\n",
    "        dummy = ListNode()\n",
    "        temp = dummy\n",
    "        while l1 and l2:\n",
    "            if l1.val < l2.val:\n",
    "                temp.next = l1\n",
    "                l1 = l1.next\n",
    "            else:\n",
    "                temp.next = l2\n",
    "                l2 = l2.next\n",
    "            temp = temp.next\n",
    "        if l1: \n",
    "            temp.next = l1\n",
    "        else:\n",
    "            temp.next = l2\n",
    "        return dummy.next"
   ]
  }
 ],
 "metadata": {
  "language_info": {
   "name": "python"
  },
  "orig_nbformat": 4
 },
 "nbformat": 4,
 "nbformat_minor": 2
}
