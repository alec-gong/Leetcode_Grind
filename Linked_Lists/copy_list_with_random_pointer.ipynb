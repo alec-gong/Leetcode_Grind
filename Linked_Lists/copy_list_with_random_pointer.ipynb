{
 "cells": [
  {
   "attachments": {},
   "cell_type": "markdown",
   "metadata": {},
   "source": [
    "# Copy List with Random Pointer\n",
    "\n",
    "#### Difficulty: $\\star\\star$\n",
    "#### Hint: *Dictionary*\n",
    "#### Problem\n",
    "A linked list of length `n` is given such that each node contains an additional random pointer, which could point to any node in the list, or `null`.\n",
    "\n",
    "Construct a deep copy of the list. The deep copy should consist of exactly n brand new nodes, where each new node has its value set to the value of its corresponding original node. Both the next and random pointer of the new nodes should point to new nodes in the copied list such that the pointers in the original list and copied list represent the same list state. None of the pointers in the new list should point to nodes in the original list.\n",
    "\n",
    "For example, if there are two nodes `X` and `Y` in the original list, where `X.random --> Y`, then for the corresponding two nodes `x` and `y` in the copied list, `x.random --> y`.\n",
    "\n",
    "*Return the head of the copied linked list.*\n",
    "\n",
    "The linked list is represented in the input/output as a list of `n` nodes. Each node is represented as a pair of `[val, random_index]` where:\n",
    "\n",
    "`val`: an integer representing `Node.val`\n",
    "\n",
    "`random_index`: the index of the node (range from 0 to n-1) that the random pointer points to, or `null` if it does not point to any node."
   ]
  },
  {
   "attachments": {},
   "cell_type": "markdown",
   "metadata": {},
   "source": [
    "# Solution\n",
    "We iterate through the linked lists *twice*.\n",
    "\n",
    "The first step is to build the dictionary. The keys will be the original nodes in the linked list, while the values will be a **copy** of the nodes, but only with their **value**, and without their `next` or `random` pointers.\n",
    "\n",
    "The next step is to set the `next` and `random` references. Since we aready have all the current nodes stored as the values, we only need to do:\n",
    "```python\n",
    "mem[curr].next = mem[curr.next]\n",
    "mem[curr].random = mem[curr.random]\n",
    "```"
   ]
  },
  {
   "cell_type": "code",
   "execution_count": null,
   "metadata": {},
   "outputs": [],
   "source": [
    "def copyRandomList(self, head: 'Optional[Node]') -> 'Optional[Node]':\n",
    "    mem = {None: None}\n",
    "\n",
    "    curr = head\n",
    "    while curr:\n",
    "        copy = ListNode(curr.val)\n",
    "        mem[curr] = copy\n",
    "        curr = curr.next\n",
    "    \n",
    "    curr = head\n",
    "    while curr:\n",
    "        mem[curr].next = mem[curr.next]\n",
    "        mem[curr].random = mem[curr.random]\n",
    "        curr = curr.next\n",
    "    return mem[head]"
   ]
  }
 ],
 "metadata": {
  "language_info": {
   "name": "python"
  },
  "orig_nbformat": 4
 },
 "nbformat": 4,
 "nbformat_minor": 2
}
