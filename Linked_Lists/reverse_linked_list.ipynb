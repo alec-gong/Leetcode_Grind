{
 "cells": [
  {
   "attachments": {},
   "cell_type": "markdown",
   "metadata": {},
   "source": [
    "# Reverse Linked List\n",
    "\n",
    "#### Difficulty: $\\star$\n",
    "#### Hint: *`prev`*\n",
    "#### Problem\n",
    "Given the `head` of a singly linked list, reverse the list, and return *the reversed list*."
   ]
  },
  {
   "attachments": {},
   "cell_type": "markdown",
   "metadata": {},
   "source": [
    "### Solution: a Game of Pointers\n",
    "Basically, we want to do 3 things:\n",
    "1. Set `head.next` to the node before (which we call `prev`)\n",
    "2. Make sure `prev` is always one node behind head\n",
    "3. Still move head in the original direction\n",
    "\n",
    "To that end, we need `temp` to temporarily store `head.next` before we alters its pointer. And we have to initialize and update `prev`. What is `prev` when `head` is the start of the linked list? Null (or in python `None`)!"
   ]
  },
  {
   "cell_type": "code",
   "execution_count": null,
   "metadata": {},
   "outputs": [],
   "source": [
    "def reverseList(self, head: Optional[ListNode]) -> Optional[ListNode]:\n",
    "    prev = None\n",
    "    while head:\n",
    "        temp = head.next\n",
    "        head.next = prev\n",
    "        prev = head\n",
    "        head = temp\n",
    "    return prev"
   ]
  }
 ],
 "metadata": {
  "language_info": {
   "name": "python"
  },
  "orig_nbformat": 4
 },
 "nbformat": 4,
 "nbformat_minor": 2
}
