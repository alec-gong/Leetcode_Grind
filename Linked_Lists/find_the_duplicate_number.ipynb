{
 "cells": [
  {
   "attachments": {},
   "cell_type": "markdown",
   "metadata": {},
   "source": [
    "# Find the Duplicate Number\n",
    "\n",
    "#### Difficulty: $\\star\\star$\n",
    "#### Hint: *Floyd-Warshall Algorithm*\n",
    "#### Problem\n",
    "Given an array of integers nums containing `n + 1` integers where each integer is in the range `[1, n]` inclusive.\n",
    "\n",
    "There is only one repeated number in `nums`, return this repeated number.\n",
    "\n",
    "You must solve the problem without modifying the array nums and uses only **constant extra space**."
   ]
  },
  {
   "attachments": {},
   "cell_type": "markdown",
   "metadata": {},
   "source": [
    "### Solution: Floyd's Turtoise and Hare\n",
    "The most important premise in this problem is that the numbers are in range [1, n]. This enables us to think of the values not only as numeric numbers, but also as a pointer to another element in the list. Consequently, we can treat the list as a **linked list**, with the values acting as the `next` reference.\n",
    "\n",
    "So what does containing duplicates mean? This means that two 'nodes' reference the same node; in other words, suppose the two duplicate nodes are node A and B, and they both refrence node C, then after reaching node C through A, we are going to pass some other nodes before reaching node B, which will bring us right back to C. Hence we have a **cycle**.\n",
    "\n",
    "At this point, we send out **two** pointers, `slow` and `fast`, with `slow` travelling one node per time, and `fast` travelling two. The `fast` will catch up with `slow`somewhere in the cycle. While `slow` is still making its way around the first loop, the `fast` at this point is already on its second loop. \n",
    "\n",
    "Now suppose the distance between the start and the beginning of the cycle is $x$, and the length of the cycle is $c$. Suppose also that when `fast` cataches up with `slow`, `slow` has travelled a distance of $y$ in the cycle ($c < y$). Then we have:\n",
    "$$x + c + y = 2(x + y)$$\n",
    "After simplification, $x + y = c$, or $x = c - y$.\n",
    "This suggests that, if after `fast` and `slow` meet for the second time, we send out another slow pointer `slow2`, with the same speed as `slow`, then `slow` and `slow2` will meet at the beginning of the cycle. (This is because the distance between start and the beginning of the cycle, $x$, is the same as slow's position from the beginning, $c - y$.)\n",
    "\n",
    "And just like that, we have found the beginning of the cycle, which, in the problem's context, just happen to be the duplicate number. "
   ]
  },
  {
   "cell_type": "code",
   "execution_count": null,
   "metadata": {},
   "outputs": [],
   "source": [
    "def findDuplicate(self, nums: List[int]) -> int:\n",
    "    slow, fast = 0, 0\n",
    "    while True:\n",
    "        slow = nums[slow]\n",
    "        fast = nums[nums[fast]]\n",
    "        if slow == fast:\n",
    "            break\n",
    "\n",
    "    slow2 = 0\n",
    "    while True:\n",
    "        slow = nums[slow]\n",
    "        slow2 = nums[slow2]\n",
    "        if slow == slow2:\n",
    "            return slow"
   ]
  }
 ],
 "metadata": {
  "language_info": {
   "name": "python"
  },
  "orig_nbformat": 4
 },
 "nbformat": 4,
 "nbformat_minor": 2
}
