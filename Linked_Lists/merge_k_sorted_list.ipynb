{
 "cells": [
  {
   "attachments": {},
   "cell_type": "markdown",
   "metadata": {},
   "source": [
    "# Merge K Sorted Lists\n",
    "#### Difficulty: $\\star\\star\\star$\n",
    "#### Hint: *Merge two at a time*\n",
    "#### Problem\n",
    "You are given an array of `k` linked-lists `lists`, each linked-list is sorted in ascending order.\n",
    "\n",
    "Merge all the linked-lists into *one sorted linked-list and return it*."
   ]
  },
  {
   "attachments": {},
   "cell_type": "markdown",
   "metadata": {},
   "source": [
    "### Solution\n",
    "For a hard problem, the solution is actually pretty simple. \n",
    "\n",
    "The main building block is merging two sorted lists (which we have already covered), and now all we have to do is merging the lists two at a time (a list can also merging with `None` if the number is odd) and storing the results in a list `merged`.\n",
    "\n",
    "We then set `lists` to `merged`, and repeat the above process, until all the lists are merged into one."
   ]
  },
  {
   "cell_type": "code",
   "execution_count": null,
   "metadata": {},
   "outputs": [],
   "source": [
    "def mergeKLists(self, lists: List[Optional[ListNode]]) -> Optional[ListNode]:\n",
    "    def mergeTwoListNode(l1, l2) -> ListNode:\n",
    "        dummy = ListNode()\n",
    "        temp = dummy\n",
    "        while l1 and l2:\n",
    "            if l1.val < l2.val:\n",
    "                temp.next = l1\n",
    "                l1 = l1.next\n",
    "            else:\n",
    "                temp.next = l2\n",
    "                l2 = l2.next\n",
    "            temp = temp.next\n",
    "        if l1: \n",
    "            temp.next = l1\n",
    "        else:\n",
    "            temp.next = l2\n",
    "        return dummy.next\n",
    "    \n",
    "    while len(lists) > 1:\n",
    "        merged = []\n",
    "        for i in range(0, len(lists), 2):\n",
    "            list1 = lists[i]\n",
    "            list2 = lists[i+1] if (i + 1) < len(lists) else None\n",
    "            merged.append(mergeTwoListNode(list1, list2))\n",
    "            \n",
    "        lists = merged\n",
    "    return lists[0] if lists else None"
   ]
  },
  {
   "attachments": {},
   "cell_type": "markdown",
   "metadata": {},
   "source": []
  }
 ],
 "metadata": {
  "language_info": {
   "name": "python"
  },
  "orig_nbformat": 4
 },
 "nbformat": 4,
 "nbformat_minor": 2
}
