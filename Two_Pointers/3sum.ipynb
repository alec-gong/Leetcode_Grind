{
 "cells": [
  {
   "attachments": {},
   "cell_type": "markdown",
   "metadata": {},
   "source": [
    "# 3Sum\n",
    "\n",
    "#### Difficulty: $\\star\\star$\n",
    "#### Hint: *sort*\n",
    "#### Description\n",
    "Given an integer array `nums`, return all the triplets `[nums[i], nums[j], nums[k]]` such that `i != j`, `i != k`, and `j != k`, and `nums[i] + nums[j] + nums[k] == 0`.\n",
    "\n",
    "Notice that the solution set must **not contain duplicate** triplets.\n",
    "\n"
   ]
  },
  {
   "attachments": {},
   "cell_type": "markdown",
   "metadata": {},
   "source": [
    "## Solution\n",
    "The most tricky part of the part of the problem is dealing with duplicates. Say we start at the left end of the list, marking our progress with a pointer i, and trying to find its two complements right of i. Ideally, we only want to find triplets that contain `nums[i]` exactly once, so that if at index i' `nums[i] == nums[i]`, we want to skip i'.\n",
    "\n",
    "One way to achieve this effect is to store all the i's we have encountered in a hashset. But there is an easier alternative, sorting the list in the first place. This way we can skip duplicates just by comparing the adjacent elements. \n",
    "\n",
    "There is another benefit of a sorted list - we now know the relative magnitude of the elements. Suppose index i is fixed, and we are using left pointer j and right pointer k to find i's complements. As long as `j < k`, we know `index[j] <= index[k]`. Consequently, if `index[j] + index[k] < complement` (complement = -nums[i]), we want the sum to be larger, so we move the left pointer to the right. Conversely, if we want the sum to be smaller, we move the right pointer to the left."
   ]
  },
  {
   "cell_type": "code",
   "execution_count": null,
   "metadata": {},
   "outputs": [],
   "source": [
    "def threeSum(self, nums):\n",
    "    \"\"\"\n",
    "    :type nums: List[int]\n",
    "    :rtype: List[List[int]]\n",
    "    \"\"\"\n",
    "    ans = []\n",
    "    nums.sort()\n",
    "    for i in range(len(nums)):\n",
    "        if nums[i] > 0:\n",
    "            break\n",
    "        if i > 0 and nums[i] == nums[i-1]:\n",
    "            continue\n",
    "        j, k = i + 1, len(nums) - 1\n",
    "        while j < k:\n",
    "            if nums[i] + nums[j] + nums[k] < 0:\n",
    "                j += 1\n",
    "            elif nums[i] + nums[j] + nums[k] > 0:\n",
    "                k -= 1\n",
    "            else:\n",
    "                ans.append([nums[i], nums[j], nums[k]])\n",
    "                j += 1\n",
    "                k -= 1\n",
    "                while (nums[j] == nums[j-1]) and j < k:\n",
    "                    j += 1\n",
    "    return ans"
   ]
  }
 ],
 "metadata": {
  "language_info": {
   "name": "python"
  },
  "orig_nbformat": 4
 },
 "nbformat": 4,
 "nbformat_minor": 2
}
