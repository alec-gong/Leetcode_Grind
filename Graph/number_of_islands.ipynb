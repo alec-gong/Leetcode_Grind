{
 "cells": [
  {
   "cell_type": "code",
   "execution_count": null,
   "metadata": {},
   "outputs": [],
   "source": [
    "def numIslands(self, grid):\n",
    "    \"\"\"\n",
    "    :type grid: List[List[str]]\n",
    "    :rtype: int\n",
    "    \"\"\"\n",
    "    m, n = len(grid), len(grid[0])\n",
    "\n",
    "    visited = set()\n",
    "\n",
    "    def bfs(i, j):\n",
    "        q = deque()\n",
    "        visited.add((i,j))\n",
    "        q.append((i,j))\n",
    "\n",
    "        while q:\n",
    "            x, y = q.popleft()\n",
    "            \n",
    "            dir = [[-1,0], [1,0], [0,-1], [0,1]]\n",
    "            for a, b in dir:\n",
    "                r, c = x + a, y + b\n",
    "                if (r) in range(m) and (c) in range(n) and grid[r][c] == \"1\" and (r,c) not in visited:\n",
    "                    visited.add((r,c))\n",
    "                    q.append((r,c))\n",
    "    \n",
    "    island = 0\n",
    "    for r in range(m):\n",
    "        for c in range(n):\n",
    "            if grid[r][c] == \"1\" and (r,c) not in visited:\n",
    "                bfs(r, c)\n",
    "                island += 1\n",
    "    return island"
   ]
  }
 ],
 "metadata": {
  "language_info": {
   "name": "python"
  },
  "orig_nbformat": 4
 },
 "nbformat": 4,
 "nbformat_minor": 2
}
