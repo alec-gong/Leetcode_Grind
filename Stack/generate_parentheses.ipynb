{
 "cells": [
  {
   "attachments": {},
   "cell_type": "markdown",
   "metadata": {},
   "source": [
    "# Generate Parentheses\n",
    "\n",
    "#### Difficulty: $\\star\\star$\n",
    "#### Hint: Recursion\n",
    "\n",
    "#### Problem\n",
    "Given n pairs of parentheses, write a function to generate all combinations of well-formed parentheses."
   ]
  },
  {
   "attachments": {},
   "cell_type": "markdown",
   "metadata": {},
   "source": [
    "### Solution: Time for Recursion\n",
    "This is more of a backtracking recursion. We have two indicators, `left` denoting how many open parenthese we have encountered, and `right` denoting how many closing parentheses:\n",
    "1. The base case: if we have encountered `n` open and close parentheses, we have constructed a valid answer, which we add to `res`.\n",
    "2. Recusion: as long as the opening parentheses we encountered are less than n, we can keep adding `(` to the answer. Meanwhile, we must make sure the closing parentheses are **no more** than the opening parentheses. If the former is fewer than the letter, the balance can be restored by keep adding `)`."
   ]
  },
  {
   "cell_type": "code",
   "execution_count": null,
   "metadata": {},
   "outputs": [],
   "source": [
    "def generateParenthesis(self, n: int) -> List[str]:     \n",
    "    res = []\n",
    "\n",
    "    def dfs(left, right, s):\n",
    "        if left == right == n:\n",
    "            res.append(s)\n",
    "        if left < n:\n",
    "            dfs(left + 1, right, s + \"(\")\n",
    "        if right < left:\n",
    "            dfs(left, right + 1, s + \")\")\n",
    "    \n",
    "    left, right = 0, 0\n",
    "    dfs(left, right, \"\")\n",
    "    return res\n"
   ]
  },
  {
   "attachments": {},
   "cell_type": "markdown",
   "metadata": {},
   "source": [
    "*Perhaps instead of keeping the constructed string as a parameter of the recursion, a more efficient would be to keep it as an instance variable in the form of a **stack**.*"
   ]
  },
  {
   "cell_type": "code",
   "execution_count": null,
   "metadata": {},
   "outputs": [],
   "source": [
    "def generateParenthesis(self, n: int) -> List[str]:\n",
    "    stack, res = [], []\n",
    "    \n",
    "    def backtrack(openN, closedN):\n",
    "        if openN == closedN == n:\n",
    "            res.append(\"\".join(stack))\n",
    "            return\n",
    "\n",
    "        if openN < n:\n",
    "            stack.append(\"(\")\n",
    "            backtrack(openN + 1, closedN)\n",
    "            stack.pop()\n",
    "        if closedN < openN:\n",
    "            stack.append(\")\")\n",
    "            backtrack(openN, closedN + 1)\n",
    "            stack.pop()\n",
    "\n",
    "    backtrack(0, 0)\n",
    "    return res"
   ]
  }
 ],
 "metadata": {
  "language_info": {
   "name": "python"
  },
  "orig_nbformat": 4
 },
 "nbformat": 4,
 "nbformat_minor": 2
}
