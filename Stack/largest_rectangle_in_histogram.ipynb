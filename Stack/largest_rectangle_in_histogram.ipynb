{
 "cells": [
  {
   "attachments": {},
   "cell_type": "markdown",
   "metadata": {},
   "source": [
    "# Largest Rectangle in Histogram\n",
    "\n",
    "#### Difficulty: $\\star\\star\\star$\n",
    "\n",
    "### Problem\n",
    "Given an array of integers `heights` representing the histogram's bar height where the width of each bar is `1`, return *the area of the largest rectangle in the histogram*."
   ]
  },
  {
   "attachments": {},
   "cell_type": "markdown",
   "metadata": {},
   "source": [
    "### Solution 1: Brute Force that Never Works"
   ]
  },
  {
   "cell_type": "code",
   "execution_count": null,
   "metadata": {},
   "outputs": [],
   "source": [
    "def largestRectangleArea(self, heights):\n",
    "    \"\"\"\n",
    "    :type heights: List[int]\n",
    "    :rtype: int\n",
    "    \"\"\"\n",
    "    maxArea = 0\n",
    "    for i in range(len(heights)):\n",
    "        left, right = 0, 0\n",
    "        while i - left >= 0 and heights[i - left] >= heights[i]:\n",
    "            left += 1\n",
    "        while i + right < len(heights) and heights[i + right] >= heights[i]:\n",
    "            right += 1\n",
    "        area = (left + right - 1) * heights[i]\n",
    "        if area > maxArea:\n",
    "            maxArea = area\n",
    "    return maxArea"
   ]
  },
  {
   "attachments": {},
   "cell_type": "markdown",
   "metadata": {},
   "source": [
    "### Solution 2: the Right Way\n",
    "\n",
    "Let's give the problem some more thought. The problem with the first solution is that by using two pointers to find taller rectangles, we are traversing, in the worst case, the entire list. Now it is evident that there is not a better way to send the pointers, so our aim should be to have as few rectangles on the stack (why stack? because that is the hint) as possible.\n",
    "\n",
    "To do that, we have to consider the relationship between the rectangles, specifically their height. When do we know for certain the area of a rectangle? It is when it is the highest in its vacinity, sticking out like a sore thumb. In this context, this is when the rectangles to the left and right are both shorter than it. \n",
    "\n",
    "This gives us an inspiration. Suppose we put the height of rectangles and their respective index onto the stack. We keep adding these information as long as the next rectangle is no shorter than the previous stack. What if the next one is actually shorter? Then we can determine the area of the previous rectangle - it is now impossible for it to expand its area by merging with the next rectangle. So we can pop it off the stack, and update the `maxArea`. (Yes, it is possible a single strip of rectangle has the largest area.)\n",
    "\n",
    "```python\n",
    "while stack and stack[-1][1] > h:\n",
    "    idx, height = stack.pop()\n",
    "    maxArea = max(maxArea, height * (i - idx))\n",
    "```\n",
    "\n",
    "And this process continues as long as the last remaining rectangle on the stack is taller. We keep popping out the areas of single strip of rectangles until the next rectangle to be added is once again no shorter than its predecessor.\n",
    "\n",
    "Now it is finally time to add the new rectangle onto the stack. But we cannot directly add the index of the next rectangle - it needs an update. As it is shorter than the popped rectangle(s), we can think that it can merge with its predecessors, with its base enlargening. So what should we put at its index? It has to be the **index of the last rectangle popped**. Because we can calculate the length of the base by this index and the index of the next rectangle added on the stack. \n",
    "\n",
    "```python\n",
    "pointer = idx\n",
    "stack.append((pointer, h))\n",
    "```\n",
    "\n",
    "After going over through entire list, we are left with a stack of rectangles, each taller than the one before it. How do we calculate its area? We know its height; for base, it is the length from its current index all the way to the end of the list. (Every shorter rectangle can expand and merge with the remaining taller rectangles to its right). Its area is :\n",
    "```python\n",
    "h * (len(heights) - i)\n",
    "```\n",
    "And every time we find a new area, we attempt to update the `maxArea`. "
   ]
  },
  {
   "cell_type": "code",
   "execution_count": null,
   "metadata": {},
   "outputs": [],
   "source": [
    "def largestRectangleArea(self, heights):\n",
    "        \n",
    "        maxArea = 0\n",
    "\n",
    "        stack = []\n",
    "        for i, h in enumerate(heights):\n",
    "            pointer = i\n",
    "            while stack and stack[-1][1] > h:\n",
    "                idx, height = stack.pop()\n",
    "                maxArea = max(maxArea, height * (i - idx))\n",
    "                pointer = idx\n",
    "            stack.append((pointer, h))\n",
    "        for i, h in stack:\n",
    "            maxArea = max(maxArea, h * (len(heights) - i))\n",
    "        return maxArea"
   ]
  }
 ],
 "metadata": {
  "language_info": {
   "name": "python"
  },
  "orig_nbformat": 4
 },
 "nbformat": 4,
 "nbformat_minor": 2
}
