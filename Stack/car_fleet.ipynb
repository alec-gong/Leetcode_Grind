{
 "cells": [
  {
   "attachments": {},
   "cell_type": "markdown",
   "metadata": {},
   "source": [
    "# Car Fleet\n",
    "\n",
    "#### Difficulty: $\\star\\star$\n",
    "#### Hint: *Calculate the time for cars to reach destination*\n",
    "### Problem\n",
    "There are `n` cars going to the same destination along a one-lane road. The destination is target miles away.\n",
    "\n",
    "You are given two integer array `position` and `speed`, both of length `n`, where `position[i]` is the position of the `ith` car and `speed[i]` is the speed of the ith car (in miles per hour).\n",
    "\n",
    "A car can never pass another car ahead of it, but it can catch up to it and drive bumper to bumper at the same speed. The faster car will slow down to match the slower car's speed. The distance between these two cars is ignored (i.e., they are assumed to have the same position).\n",
    "\n",
    "A **car fleet** is some non-empty set of cars driving at the same position and same speed. Note that a single car is also a car fleet.\n",
    "\n",
    "If a car catches up to a car fleet right at the destination point, it will still be considered as one car fleet.\n",
    "\n",
    "Return *the number of car fleets* that will arrive at the destination."
   ]
  },
  {
   "attachments": {},
   "cell_type": "markdown",
   "metadata": {},
   "source": [
    "### Solution\n",
    "The idea is simple. To determine if two cars belong in the same car fleet, we just have to calculate how long it takes them to reach the destination. If the car behind takes less time, then we will know at some point in the journey it will catch up with the car in front and the two will merge into one (literally). \n",
    "\n",
    "We create a stack. If a car reaches destination without catching up with the cars in front, we add it to the stack. Otherwise, we do not consider it because before reaching the destination, it **will** become the car which it catches up with. And the number of car fleets is the **length of the stack**. "
   ]
  },
  {
   "cell_type": "code",
   "execution_count": null,
   "metadata": {},
   "outputs": [
    {
     "ename": "",
     "evalue": "",
     "output_type": "error",
     "traceback": [
      "\u001b[1;31mRunning cells with 'c:\\Users\\Alec Gong\\AppData\\Local\\Microsoft\\WindowsApps\\python3.10.exe' requires the ipykernel package.\n",
      "\u001b[1;31mRun the following command to install 'ipykernel' into the Python environment. \n",
      "\u001b[1;31mCommand: '\"c:/Users/Alec Gong/AppData/Local/Microsoft/WindowsApps/python3.10.exe\" -m pip install ipykernel -U --user --force-reinstall'"
     ]
    }
   ],
   "source": [
    "def carFleet(self, target, position, speed):\n",
    "    \"\"\"\n",
    "    :type target: int\n",
    "    :type position: List[int]\n",
    "    :type speed: List[int]\n",
    "    :rtype: int\n",
    "    \"\"\"\n",
    "    time = []\n",
    "\n",
    "    for i in range(len(position)):\n",
    "        t = float((target - position[i])) / speed[i]\n",
    "        time.append((target - position[i], t))\n",
    "    time.sort()\n",
    "    \n",
    "    ans = []\n",
    "    ans.append(time[0][1])\n",
    "    for i in range(1, len(time)):\n",
    "        if time[i][1] > ans[-1]:\n",
    "            ans.append(time[i][1])\n",
    "    return len(ans)"
   ]
  },
  {
   "attachments": {},
   "cell_type": "markdown",
   "metadata": {},
   "source": [
    "We can shorten the code a little bit:\n",
    "Instead of directly adding the time it takes for cars to reach the destination and the remaining distance to a new list, we can use **list comprehension** to `zip` the original two lists together, and sort it **in reverse order**\n",
    "```python\n",
    "pair.sort(reverse=True)\n",
    "```"
   ]
  },
  {
   "cell_type": "code",
   "execution_count": null,
   "metadata": {},
   "outputs": [],
   "source": [
    "class Solution:\n",
    "    def carFleet(self, target: int, position: List[int], speed: List[int]) -> int:\n",
    "        pair = [(p, s) for p, s in zip(position, speed)]\n",
    "        pair.sort(reverse=True)\n",
    "        stack = []\n",
    "        for p, s in pair:  # Reverse Sorted Order\n",
    "            stack.append((target - p) / s)\n",
    "            if len(stack) >= 2 and stack[-1] <= stack[-2]:\n",
    "                stack.pop()\n",
    "        return len(stack)\n"
   ]
  }
 ],
 "metadata": {
  "kernelspec": {
   "display_name": "Python 3",
   "language": "python",
   "name": "python3"
  },
  "language_info": {
   "name": "python",
   "version": "3.10.11"
  },
  "orig_nbformat": 4
 },
 "nbformat": 4,
 "nbformat_minor": 2
}
