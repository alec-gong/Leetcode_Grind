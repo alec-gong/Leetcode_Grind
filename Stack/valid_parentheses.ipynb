{
 "cells": [
  {
   "attachments": {},
   "cell_type": "markdown",
   "metadata": {},
   "source": [
    "# Valid Parentheses\n",
    "\n",
    "#### Difficulty: $\\star$\n",
    "#### Hint: *stack*\n",
    "\n",
    "#### Problem\n",
    "Given a string s containing just the characters '(', ')', '{', '}', '[' and ']', determine if the input string is valid.\n",
    "\n",
    "An input string is valid if:\n",
    "1. Open brackets must be closed by the same type of brackets.\n",
    "2. Open brackets must be closed in the correct order.\n",
    "3. Every close bracket has a corresponding open bracket of the same type."
   ]
  },
  {
   "attachments": {},
   "cell_type": "markdown",
   "metadata": {},
   "source": [
    "### Solution\n",
    "This is a classic problem. The only thing to note is when we are creating the dictionary, we should put the closing parentheses as key, and its opening counterpart as value. This makes searching easier:\n",
    "```python\n",
    "if c in dic:\n",
    "```\n",
    "Also notice the beaufiful return statement"
   ]
  },
  {
   "cell_type": "code",
   "execution_count": null,
   "metadata": {},
   "outputs": [],
   "source": [
    "def isValid(self, s):\n",
    "        \"\"\"\n",
    "        :type s: str\n",
    "        :rtype: bool\n",
    "        \"\"\"\n",
    "\n",
    "        closeOpen = {\")\":\"(\", \"]\":\"[\", \"}\":\"{\"}\n",
    "        stack = []\n",
    "\n",
    "        for c in s:\n",
    "            if c in closeOpen:\n",
    "                if stack and stack[-1] == closeOpen[c]:\n",
    "                    stack.pop()\n",
    "                else:\n",
    "                    return False \n",
    "            else:\n",
    "                stack.append(c)\n",
    "        return not stack"
   ]
  },
  {
   "attachments": {},
   "cell_type": "markdown",
   "metadata": {},
   "source": [
    "There are variations to this problem. Perhaps the most common one is that instead of just providing parentheses, the string contains other characters. Now it is useful to sort throught the `values()` of the dictionary as well."
   ]
  },
  {
   "cell_type": "code",
   "execution_count": null,
   "metadata": {},
   "outputs": [],
   "source": [
    "# the code is basically the same\n",
    "def isvalid(s):\n",
    "    openclose = { \"}\":\"{\", \")\":\"(\", \"]\":\"[\" }\n",
    "    stack = []\n",
    "\n",
    "    for c in s:\n",
    "        if c in openclose:\n",
    "            if stack and stack[-1] == openclose[c]:\n",
    "                stack.pop()\n",
    "            else:\n",
    "                return False\n",
    "        elif c in openclose.values():\n",
    "            stack.append(c)\n",
    "    return not stack"
   ]
  }
 ],
 "metadata": {
  "language_info": {
   "name": "python"
  },
  "orig_nbformat": 4
 },
 "nbformat": 4,
 "nbformat_minor": 2
}
