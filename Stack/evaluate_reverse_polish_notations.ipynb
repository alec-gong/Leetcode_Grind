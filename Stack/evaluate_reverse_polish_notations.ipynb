{
 "cells": [
  {
   "attachments": {},
   "cell_type": "markdown",
   "metadata": {},
   "source": [
    "# Evaluate Reverse Polish Notations\n",
    "\n",
    "#### Difficulty: $\\star\\star$\n",
    "#### Hint: *To deal with rounding up errors, use `float()` when carrying out divisions* \n",
    "### Problem\n",
    "You are given an array of strings tokens that represents an arithmetic expression in a **Reverse Polish Notation**.\n",
    "\n",
    "Evaluate the expression. Return an **integer** that represents the value of the expression."
   ]
  },
  {
   "attachments": {},
   "cell_type": "markdown",
   "metadata": {},
   "source": [
    "### Solution\n",
    "This problem is trivial if we know the process. After building a stack, we iterate the list. When we encounter operands, we add them to the stack; when we encounter operators, we pop two operands after the stack (order: right operand, left operand) and perform the corresponding calculation, adding the result back to the stack. When we finish iterating through the list, we pop the result from the stack."
   ]
  },
  {
   "cell_type": "code",
   "execution_count": null,
   "metadata": {},
   "outputs": [],
   "source": [
    "def evalRPN(self, tokens):\n",
    "        \"\"\"\n",
    "        :type tokens: List[str]\n",
    "        :rtype: int\n",
    "        \"\"\"\n",
    "        stack = []\n",
    "        for c in tokens:\n",
    "            if c == \"+\":\n",
    "                stack.append(stack.pop() + stack.pop())\n",
    "            elif c == \"-\":\n",
    "                a, b = stack.pop(), stack.pop()\n",
    "                stack.append(b - a)\n",
    "            elif c == \"*\":\n",
    "                stack.append(stack.pop() * stack.pop())\n",
    "            elif c == \"/\":\n",
    "                a, b = stack.pop(), stack.pop()\n",
    "                stack.append(int(float(b) / a))\n",
    "            else:\n",
    "                stack.append(int(c))\n",
    "        return stack[0]"
   ]
  },
  {
   "attachments": {},
   "cell_type": "markdown",
   "metadata": {},
   "source": [
    "*Note: For whatever reason, my version of python, when carrying out integer divisions, does not round up. To deal with the problem, we use cast one of the integers to float.*"
   ]
  }
 ],
 "metadata": {
  "language_info": {
   "name": "python"
  },
  "orig_nbformat": 4
 },
 "nbformat": 4,
 "nbformat_minor": 2
}
