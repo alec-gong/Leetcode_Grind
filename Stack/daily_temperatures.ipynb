{
 "cells": [
  {
   "attachments": {},
   "cell_type": "markdown",
   "metadata": {},
   "source": [
    "# Daily Temperatures \n",
    "\n",
    "#### Difficulty: $\\star\\star$\n",
    "#### Hint: *use a stack*\n",
    "\n",
    "### Problem\n",
    "Given an array of integers temperatures represents the daily temperatures, return an array `answer` such that `answer[i]` is the number of days you have to wait after the `ith` day to get a warmer temperature. If there is no future day for which this is possible, keep `answer[i] == 0` instead."
   ]
  },
  {
   "attachments": {},
   "cell_type": "markdown",
   "metadata": {},
   "source": [
    "### Solution 1: Brute Force \n",
    "Of course, this will exceed the runtime. "
   ]
  },
  {
   "cell_type": "code",
   "execution_count": null,
   "metadata": {},
   "outputs": [],
   "source": [
    "def dailyTemperatures(self, temperatures):\n",
    "    \"\"\"\n",
    "    :type temperatures: List[int]\n",
    "    :rtype: List[int]\n",
    "    \"\"\"\n",
    "    ans = []\n",
    "    for i in range(len(temperatures)):\n",
    "        j = 0\n",
    "        while temperatures[i] >= temperatures[i+j]:\n",
    "            j += 1\n",
    "            if j == len(temperatures) - i:\n",
    "                j = 0\n",
    "                break\n",
    "        ans.append(j)\n",
    "    return ans"
   ]
  },
  {
   "attachments": {},
   "cell_type": "markdown",
   "metadata": {},
   "source": [
    "### Solution 2: the Beautiful Simplification\n",
    "\n",
    "Before we discuss the actual solution, let's first go over the thought process.\n",
    "\n",
    "Imagine we have two stacks, one called `location`, which stores indices of the list `temperature`, and another stack called `temp` which stores temperatures. Now, to utilize these stacks, we go over the elements in `temperatures`, adding its index to `location` and the actual value to `temp`. \n",
    "\n",
    "But before we append, we first compare the new value to the last element in the `temp` stack. If the new value is larger, this means we have found a warmer day for the last date on the stack, and the answer, the number of days, is the index of the new element - index of the last element on the stack. We repeat the process until there are no more elements on the stack whose values are smaller than the new element, then we append.\n",
    "\n",
    "We soon realize that since we never need to use the acutal temperatures, but instead only need the indices they correspond to, there is no need to keep the `temp` stack: one `location` stack will do. And with that, we arrive at the final solution."
   ]
  },
  {
   "cell_type": "code",
   "execution_count": null,
   "metadata": {},
   "outputs": [],
   "source": [
    "def dailyTemperatures(self, temperatures):\n",
    "\n",
    "    location = []\n",
    "    ans = [0] * len(temperatures)\n",
    "\n",
    "    location.append(0)\n",
    "\n",
    "    for i in range(1, len(temperatures)):\n",
    "        while(len(location) > 0 and temperatures[i] > temperatures[location[-1]]):\n",
    "            idx = location.pop()\n",
    "            ans[idx] = i - idx\n",
    "        location.append(i)\n",
    "    return ans"
   ]
  }
 ],
 "metadata": {
  "language_info": {
   "name": "python"
  },
  "orig_nbformat": 4
 },
 "nbformat": 4,
 "nbformat_minor": 2
}
