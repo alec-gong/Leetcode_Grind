{
 "cells": [
  {
   "attachments": {},
   "cell_type": "markdown",
   "metadata": {},
   "source": [
    "# Best Time to Buy and Sell Stock\n",
    "\n",
    "#### Difficulty: $\\star\\star$\n",
    "#### Hint: Sliding Window\n",
    "\n",
    "#### Problem\n",
    "You are given an array prices where `prices[i]` is the price of a given stock on the `ith` day.\n",
    "\n",
    "You want to maximize your profit by choosing a **single** day to buy one stock and choosing **a different day** in the future to sell that stock.\n",
    "\n",
    "Return the maximum profit you can achieve from this transaction. If you cannot achieve any profit, return **0**."
   ]
  },
  {
   "attachments": {},
   "cell_type": "markdown",
   "metadata": {},
   "source": [
    "### Solution\n",
    "While we iterate through `prices`, we want to keep updating max profit by calculating the difference between the current price (`prices[i]`) and the lowest price seen so far. And whenever we encounter another historic low, we update the lowest price."
   ]
  },
  {
   "cell_type": "code",
   "execution_count": null,
   "metadata": {},
   "outputs": [],
   "source": [
    "def maxProfit(self, prices: List[int]) -> int:\n",
    "    res = 0\n",
    "    lowest = prices[0]\n",
    "    for p in prices:\n",
    "        if p < lowest:\n",
    "            lowest = p\n",
    "        res = max(res, p - lowest)\n",
    "    return res"
   ]
  }
 ],
 "metadata": {
  "language_info": {
   "name": "python"
  },
  "orig_nbformat": 4
 },
 "nbformat": 4,
 "nbformat_minor": 2
}
