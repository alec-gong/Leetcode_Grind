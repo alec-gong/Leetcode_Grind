{
 "cells": [
  {
   "attachments": {},
   "cell_type": "markdown",
   "metadata": {},
   "source": [
    "# Minimum Window Substring\n",
    "\n",
    "#### Difficulty: $\\star\\star$\n",
    "#### Hint: *`have` & `need`*\n",
    "#### Problem\n",
    "Given two strings `s` and `t` of lengths `m` and `n` respectively, return the minimum window substring of `s` such that every character in `t` (including duplicates) is included in the window. If there is no such substring, return the empty string \"\".\n",
    "\n",
    "The testcases will be generated such that the answer is unique."
   ]
  },
  {
   "attachments": {},
   "cell_type": "markdown",
   "metadata": {},
   "source": [
    "### Solution 1: Brute force that actually works for once\n",
    "\n",
    "As most sliding window problems, we keep track of each letter's apperances using a dictionary. But unlike other problems, when comparing two dictionaries, the requirements are less strict: for every letter in `t`, we only need to make sure the same letters in the substring of `s` appears no fewer times. For comparison purposes, we build `isGood` method following the above logic. \n",
    "\n",
    "For the actual sliding window, we keep moving the right pointer until we have found a substring that satifies the requirements, and we start moving the left pointer, shrinking the window until the substring is no longer valid. We keep track of the length of the substring, updating `length` if a new minimum is found, and storing the left, right pointer in `ans`."
   ]
  },
  {
   "cell_type": "code",
   "execution_count": null,
   "metadata": {},
   "outputs": [],
   "source": [
    "def minWindow(self, s: str, t: str) -> str:\n",
    "    ds, dt = {}, {}\n",
    "    for c in t:\n",
    "        dt[c] = 1 + dt.get(c, 0)\n",
    "    \n",
    "    # d1: pattern; d2: actual string\n",
    "    def isGood(d1: dict, d2: dict) -> bool:\n",
    "        for l in d1:\n",
    "            if l not in d2 or d1[l] > d2[l]:\n",
    "                return False\n",
    "        return True\n",
    "    \n",
    "    l, length = 0, float('inf')\n",
    "    ans = [-1, -1]\n",
    "    for r in range(len(s)):\n",
    "        ds[s[r]] = 1 + ds.get(s[r], 0)\n",
    "        while isGood(dt, ds):\n",
    "            if r - l + 1 < length:\n",
    "                length = r - l + 1\n",
    "                ans = [l,r]\n",
    "            ds[s[l]] -= 1\n",
    "            l += 1\n",
    "    \n",
    "    l, r = ans\n",
    "    return (s[l: r+1] if length < float('inf') else \"\")"
   ]
  },
  {
   "attachments": {},
   "cell_type": "markdown",
   "metadata": {},
   "source": [
    "Solution 2: Add two more indicators\n",
    "The improved solution follows similar logic as solution 1, but rather than comparing two dicitionaries we use indicators `have` and `need`.\n",
    "\n",
    "`need`, which is equal to the length of `dt`, indicates the number of requirements that need to be satisfied (the substring must have no fewer number of the same letters in `t`).\n",
    "\n",
    "And now all we have to do is to update `have`. Everytime we move the left/right pointer, we either meets or upsets a `need` condition, and all we have to do is to compare the particular occurances of the letter the pointer is pointing at. "
   ]
  },
  {
   "cell_type": "code",
   "execution_count": null,
   "metadata": {},
   "outputs": [],
   "source": [
    "def minWindow(self, s: str, t: str) -> str:\n",
    "    ds, dt = {}, {}\n",
    "    for c in t:\n",
    "        dt[c] = 1 + dt.get(c, 0)\n",
    "    \n",
    "    have, need = 0, len(dt)\n",
    "    ans, anslen = [-1, -1], float('inf')\n",
    "    l = 0\n",
    "\n",
    "    for r in range(len(s)):\n",
    "        ds[s[r]] = 1 + ds.get(s[r], 0)\n",
    "        if s[r] in dt and ds[s[r]] == dt[s[r]]:\n",
    "            have += 1\n",
    "    \n",
    "        while have == need:\n",
    "            if r - l + 1 < anslen:\n",
    "                anslen = r - l + 1\n",
    "                ans = [l, r]\n",
    "            ds[s[l]] -= 1\n",
    "            if s[l] in dt and ds[s[l]] < dt[s[l]]:\n",
    "                have -= 1\n",
    "            l += 1\n",
    "    \n",
    "    l, r = ans\n",
    "    return s[l: r+1] if anslen < float('inf') else \"\""
   ]
  }
 ],
 "metadata": {
  "language_info": {
   "name": "python"
  },
  "orig_nbformat": 4
 },
 "nbformat": 4,
 "nbformat_minor": 2
}
