{
 "cells": [
  {
   "attachments": {},
   "cell_type": "markdown",
   "metadata": {},
   "source": [
    "# Permutation in String\n",
    "\n",
    "#### Difficulty: $\\star\\star$\n",
    "#### Hint: **\n",
    "#### Problem\n",
    "Given two strings `s1` and `s2`, return *`true` if `s2` contains a permutation of `s1`, or `false` otherwise*.\n",
    "\n",
    "In other words, return `true` if one of `s1`'s permutations is the substring of `s2`."
   ]
  },
  {
   "attachments": {},
   "cell_type": "markdown",
   "metadata": {},
   "source": [
    "### Solution 1: Brute Force\n",
    "This basically follows the idea of `Longest Repeating Character Replacement`.\n",
    "\n",
    "We create two dictionaries `d1` and `d2`. We use `d1` to store the frequencies of each letter in `s1`. This is going to be the template we will compare all the substrings in `t2` to. `d2` stores the frequencies of the letters in any given substring. Ideally, for the substring to be a permutation of `s1`, the frequencies of each letter in `d2` should be equal to those of their counterparts in `d1` (or equal to zero if the letter is not in `d1`).\n",
    "\n",
    "We create a helper method `isGood`, which returns `0` if the substring contains some permutation of `s1` but also **some other characters**, and return `1` if it is the very permutation.\n",
    "\n",
    "We use the sliding window to continuously find new substrings, and run the `isGood` method. If it returns `1`, we have found the permutation and we are done; if it returns `0` then we try to move the left pointer to the right with the hope that it will remove the unwanted characters. If in the process, the function stops returning either `1` or `0`, then we know the substring no longer contains the permutation after the deletions and we move the right pointer to keep on searching. \n",
    "\n",
    "If when the right pointer reaches the end of `s2` and we still have not found the answer, we return `False`."
   ]
  },
  {
   "cell_type": "code",
   "execution_count": null,
   "metadata": {},
   "outputs": [],
   "source": [
    "def checkInclusion(self, s1: str, s2: str) -> bool:\n",
    "    d1, d2 = {}, {}\n",
    "    for c in s1:\n",
    "        d1[c] = 1 + d1.get(c, 0)\n",
    "    \n",
    "    def isGood(d1: dict, d2: dict) -> int:\n",
    "        count = 0\n",
    "        for l in d2:\n",
    "            if d2[l] > d1.get(l, 0):\n",
    "                return 0\n",
    "            elif l in d1 and d2[l] == d1[l]:\n",
    "                count += 1\n",
    "        if count == len(d1):\n",
    "            return 1\n",
    "\n",
    "    \n",
    "    l = 0\n",
    "    for r in range(len(s2)):\n",
    "        d2[s2[r]] = 1 + d2.get(s2[r], 0)\n",
    "        if isGood(d1, d2) == 1:\n",
    "            return True\n",
    "        while l <= r and isGood(d1, d2) == 0:\n",
    "            d2[s2[l]] -= 1\n",
    "            l += 1\n",
    "    return False"
   ]
  },
  {
   "attachments": {},
   "cell_type": "markdown",
   "metadata": {},
   "source": [
    "### Solution 2: HASHMAP\n",
    "We should realize that finding permutations in this case is the same as finding **anagrams**, which means:\n",
    "1. The sliding window should always only include the same number of letters as those in `s1`\n",
    "2. To keep track of each letters' apperance, use a HASHMAP!!!\n",
    "```python\n",
    "s1Count, s2Count = [0] * 26, [0] * 26\n",
    "```\n",
    "\n",
    "However, it still takes time comparing two hashmaps. That is why we need to keep track of the third variable `matches`, which denotes how many letters in the two hashsets are a match. (If it is a permutation / anagram, `matches == 26` since each letter is a match) Everytime we incrment the left / right pointer, `matches` should only change by 1. (A match becoming a non-match or vice versa)."
   ]
  },
  {
   "cell_type": "code",
   "execution_count": null,
   "metadata": {},
   "outputs": [],
   "source": [
    "def checkInclusion(self, s1: str, s2: str) -> bool:\n",
    "    if len(s1) > len(s2):\n",
    "        return False\n",
    "\n",
    "    # initialize hash map\n",
    "    s1Count, s2Count = [0] * 26, [0] * 26\n",
    "    for i in range(len(s1)):\n",
    "        s1Count[ord(s1[i]) - ord(\"a\")] += 1\n",
    "        s2Count[ord(s2[i]) - ord(\"a\")] += 1\n",
    "\n",
    "    # initialize matches\n",
    "    matches = 0\n",
    "    for i in range(26):\n",
    "        matches += 1 if s1Count[i] == s2Count[i] else 0\n",
    "\n",
    "    l = 0\n",
    "    for r in range(len(s1), len(s2)):\n",
    "        if matches == 26:\n",
    "            return True\n",
    "\n",
    "        # how matches change when the right pointer moves\n",
    "        index = ord(s2[r]) - ord(\"a\")\n",
    "        s2Count[index] += 1\n",
    "        if s1Count[index] == s2Count[index]:\n",
    "            matches += 1\n",
    "        elif s1Count[index] + 1 == s2Count[index]:\n",
    "            matches -= 1\n",
    "\n",
    "        # how matches change when the left pointer moves\n",
    "        index = ord(s2[l]) - ord(\"a\")\n",
    "        s2Count[index] -= 1\n",
    "        if s1Count[index] == s2Count[index]:\n",
    "            matches += 1\n",
    "        elif s1Count[index] - 1 == s2Count[index]:\n",
    "            matches -= 1\n",
    "        l += 1\n",
    "    return matches == 26\n"
   ]
  }
 ],
 "metadata": {
  "language_info": {
   "name": "python"
  },
  "orig_nbformat": 4
 },
 "nbformat": 4,
 "nbformat_minor": 2
}
