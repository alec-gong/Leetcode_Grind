{
 "cells": [
  {
   "attachments": {},
   "cell_type": "markdown",
   "metadata": {},
   "source": [
    "# Longest Repeating Character Replacement\n",
    "\n",
    "#### Difficulty: $\\star\\star$\n",
    "#### Hint: *Use dictionary to keep track of the frequencies of letters in the window*\n",
    "\n",
    "#### Problem \n",
    "You are given a string `s` and an integer `k`. You can choose any character of the string and change it to any other uppercase English character. You can perform this operation at most `k` times.\n",
    "\n",
    "Return *the length of the longest substring containing the same letter you can get after performing the above operations*."
   ]
  },
  {
   "attachments": {},
   "cell_type": "markdown",
   "metadata": {},
   "source": [
    "### Solution: Dictionary + Sliding Window\n",
    "Suppose we are given a string, at least how many replacements will we need so that all the letters are the same? \n",
    "\n",
    "If we know the letter that appears most appears `i` times, and the length of the string is `l`, then we will need `l-i` times to do so. (This is because it is most efficient to keep the most frequent letter the same and change everything else.)\n",
    "\n",
    "This is the main idea of the solution. In any substring bounded by the sliding window, if there are no more thank `k` letters unique from the most frequent letter, than we will know it will take no more than `k` replacements to turn it into a substring of a repeating character. \n",
    "\n",
    "In operation, we can use a dictionary to keep track of the frequencies, and update the sliding window's left pointer whenever there are **more than** `k` non-frequent letters in the string. "
   ]
  },
  {
   "cell_type": "code",
   "execution_count": null,
   "metadata": {},
   "outputs": [],
   "source": [
    "def characterReplacement(self, s: str, k: int) -> int:\n",
    "    l = 0\n",
    "    occur = {}\n",
    "    maxf = 0\n",
    "    length = 0\n",
    "\n",
    "    for r in range(len(s)):\n",
    "        if s[r] in occur:\n",
    "            occur[s[r]] += 1\n",
    "        else:\n",
    "            occur[s[r]] = 1\n",
    "        maxf = max(maxf, occur[s[r]])\n",
    "        if r - l + 1 - maxf > k:\n",
    "            occur[s[l]] -= 1\n",
    "            l += 1\n",
    "        else:\n",
    "            length = max(length, r - l + 1)\n",
    "            \n",
    "    return length"
   ]
  },
  {
   "attachments": {},
   "cell_type": "markdown",
   "metadata": {},
   "source": [
    "There is a shorter way to update the frequencies in the dicitionary.\n",
    "Instead of doing\n",
    "```python\n",
    "if s[r] in occur:\n",
    "    occur[s[r]] += 1\n",
    "else:\n",
    "    occur[s[r]] = 1\n",
    "```\n",
    "Try\n",
    "```python\n",
    "occur[s[r]] = 1 + occur.get(s[r], 0)\n",
    "```"
   ]
  }
 ],
 "metadata": {
  "language_info": {
   "name": "python"
  },
  "orig_nbformat": 4
 },
 "nbformat": 4,
 "nbformat_minor": 2
}
