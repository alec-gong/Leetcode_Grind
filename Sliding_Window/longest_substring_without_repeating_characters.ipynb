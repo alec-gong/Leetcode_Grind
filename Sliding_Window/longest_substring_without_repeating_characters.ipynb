{
 "cells": [
  {
   "attachments": {},
   "cell_type": "markdown",
   "metadata": {},
   "source": [
    "# Longest Substring Without Repeating Characters\n",
    "\n",
    "#### Difficulty: $\\star\\star$\n",
    "#### Hint: *No need to store any past location; just pop*\n",
    "### Problem\n",
    "Given a string `s`, find the length of the longest substring without repeating characters."
   ]
  },
  {
   "attachments": {},
   "cell_type": "markdown",
   "metadata": {},
   "source": [
    "### Solution\n",
    "It takes some thinking to come up with the correct solution.\n",
    "\n",
    "The first thing to note is that the progress is not linear. When we find a duplicate character, we cannot start from scratch right at the spot - we have to go back to the place after where the character made its last appearance.\n",
    "\n",
    "So an idea is to store the location of each character's last appearance. But this proves to be too problematic. We do not need to store their location; we just need to keep track of which characters we have seen so far. There is no point making the left pointer (there has to a left pointer to keep track of our progress; like a backup save file, so to speak) jump to athe desired spot all at once. We can slowly increment the left pointer by popping out the letters it has seen. If in the process, we manage to delete the memory of the character's last appearance, then we can start all over again. "
   ]
  },
  {
   "cell_type": "code",
   "execution_count": null,
   "metadata": {},
   "outputs": [],
   "source": [
    "def lengthOfLongestSubstring(self, s):\n",
    "    \"\"\"\n",
    "    :type s: str\n",
    "    :rtype: int\n",
    "    \"\"\"\n",
    "    l = 0\n",
    "    mem = set()\n",
    "    maxcount = 0\n",
    "    for r in range(len(s)):\n",
    "        while s[r] in mem:\n",
    "            mem.remove(s[l])\n",
    "            l += 1\n",
    "        mem.add(s[r])\n",
    "        maxcount = max(maxcount, r - l + 1)\n",
    "    return maxcount"
   ]
  }
 ],
 "metadata": {
  "language_info": {
   "name": "python"
  },
  "orig_nbformat": 4
 },
 "nbformat": 4,
 "nbformat_minor": 2
}
