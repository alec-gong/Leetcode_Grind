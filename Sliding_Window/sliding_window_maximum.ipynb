{
 "cells": [
  {
   "attachments": {},
   "cell_type": "markdown",
   "metadata": {},
   "source": [
    "# Sliding Window Maximum\n",
    "\n",
    "#### Difficulty: $\\star\\star\\star$\n",
    "#### Hint: *Use a queue; the queue does not have to be the same length as the list; queue stores maximum value*\n",
    "\n",
    "#### Problem\n",
    "You are given an array of integers `nums`, there is a sliding window of size `k` which is moving from the very left of the array to the very right. You can only see the `k` numbers in the window. Each time the sliding window moves right by one position.\n",
    "\n",
    "Return the *max sliding window*."
   ]
  },
  {
   "attachments": {},
   "cell_type": "markdown",
   "metadata": {},
   "source": [
    "### Solution: Using a Queue\n",
    "The idea is to store the maximum of each window in the queue. How do we do that? Consider the case when an element is larger than all of its previous elements. It is impossible that, after the latest element is included in the sliding window, the previous elements will **ever** be the maximum. \n",
    "\n",
    "We can generalize this idea to apply to this problem. We want the elements in the queue to form a strictly **non-increasing** queue (so that each element has the possibility of becoming the maximum in a particular window).\n",
    "\n",
    "If we already know the current queue is non-increasing, then if the next element is larger than the last element in the queue, the last element is doomed to be in the shadow of the newcomer forever, and never again has the chance to be the maximum. So before appending the latest element, we have to remove the last element. We continue the process until the sequence is once again non-increasing. \n",
    "\n",
    "We also have to constantly trim the queue by removing the elements left of the sliding window. \n",
    "\n",
    "With all these procedures, everytime we wish to retrive the maximum of a sliding window, we only need to pick the first element in the queue, because we know (a) it is larger than all the other elements (b) it is definitely inside the sliding window. "
   ]
  },
  {
   "cell_type": "code",
   "execution_count": null,
   "metadata": {},
   "outputs": [],
   "source": [
    "def maxSlidingWindow(self, nums: List[int], k: int) -> List[int]:\n",
    "    l, r = 0, 0\n",
    "    q = collections.deque()\n",
    "    ans = []\n",
    "\n",
    "    while r in range(len(nums)):\n",
    "        # Keep the queue non-increasing\n",
    "        while q and nums[q[-1]] < nums[r]:\n",
    "            q.pop()\n",
    "        q.append(r)\n",
    "\n",
    "        # Trim the queue\n",
    "        if l > q[0]:\n",
    "            q.popleft()\n",
    "        \n",
    "        # Edge Case\n",
    "        # The window only starts moving when the rest pointer reaches index k-1\n",
    "        # We only update left pointer when there are k elements in the queue\n",
    "        if r + 1 >= k:\n",
    "            ans.append(nums[q[0]])\n",
    "            l += 1\n",
    "        r += 1\n",
    "    \n",
    "    return ans"
   ]
  }
 ],
 "metadata": {
  "language_info": {
   "name": "python"
  },
  "orig_nbformat": 4
 },
 "nbformat": 4,
 "nbformat_minor": 2
}
